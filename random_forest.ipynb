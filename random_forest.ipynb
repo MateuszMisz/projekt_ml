{
 "cells": [
  {
   "cell_type": "code",
   "id": "initial_id",
   "metadata": {
    "collapsed": true,
    "ExecuteTime": {
     "end_time": "2025-01-24T11:14:17.783398Z",
     "start_time": "2025-01-24T11:14:14.582346Z"
    }
   },
   "source": [
    "from sklearn.ensemble import RandomForestClassifier\n",
    "import pandas as pd\n",
    "from sklearn.model_selection import GridSearchCV\n",
    "from sklearn.preprocessing import MinMaxScaler\n",
    "import numpy as np\n",
    "df= pd.read_csv('./res/df_inne_choosen_entropy')\n",
    "X=df.drop('Moda',axis=1)\n",
    "y=df['Moda']\n",
    "scaler=MinMaxScaler()\n",
    "X_scaled= scaler.fit_transform(X)\n",
    "X=pd.DataFrame(X_scaled,columns=X.columns)\n",
    "param_dict={\n",
    "    'n_estimators':[43,44, 45,46],\n",
    "    'criterion':['gini'],\n",
    "    'max_depth':[5,6],\n",
    "    'min_samples_split':[2,3],\n",
    "    'min_samples_leaf':[1,2],\n",
    "}\n",
    "searcher=GridSearchCV(RandomForestClassifier(),param_grid=param_dict,cv=5,n_jobs=-1,scoring='f1_weighted')\n",
    "searcher.fit(X,y)\n",
    "print(searcher.best_params_)\n",
    "print(searcher.best_score_)"
   ],
   "outputs": [
    {
     "name": "stdout",
     "output_type": "stream",
     "text": [
      "{'criterion': 'gini', 'max_depth': 6, 'min_samples_leaf': 1, 'min_samples_split': 2, 'n_estimators': 45}\n",
      "0.7474920634920634\n"
     ]
    }
   ],
   "execution_count": 12
  }
 ],
 "metadata": {
  "kernelspec": {
   "display_name": "Python ML",
   "language": "python",
   "name": "pythonproject"
  },
  "language_info": {
   "codemirror_mode": {
    "name": "ipython",
    "version": 2
   },
   "file_extension": ".py",
   "mimetype": "text/x-python",
   "name": "python",
   "nbconvert_exporter": "python",
   "pygments_lexer": "ipython2",
   "version": "2.7.6"
  }
 },
 "nbformat": 4,
 "nbformat_minor": 5
}
