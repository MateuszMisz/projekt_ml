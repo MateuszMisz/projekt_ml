{
 "cells": [
  {
   "cell_type": "code",
   "id": "initial_id",
   "metadata": {
    "collapsed": true,
    "ExecuteTime": {
     "end_time": "2025-01-11T14:42:23.359144Z",
     "start_time": "2025-01-11T14:42:23.342555Z"
    }
   },
   "source": [
    "from sklearn.svm import SVC\n",
    "from sklearn.model_selection import GridSearchCV\n",
    "import numpy as np\n",
    "import pandas as pd"
   ],
   "outputs": [],
   "execution_count": 11
  },
  {
   "metadata": {
    "ExecuteTime": {
     "end_time": "2025-01-11T14:55:10.565414Z",
     "start_time": "2025-01-11T14:55:10.545542Z"
    }
   },
   "cell_type": "code",
   "source": [
    "df=pd.read_csv('./res/selected_features_lasso.csv')\n",
    "X=df.drop(['Moda'],axis=1)\n",
    "y=df['Moda']\n",
    "param_grid = {\n",
    "    'C': [0.79,0.78,0.81],             # Regularizacja\n",
    "    'gamma': [1.5,1.6,1.7,1.8,1.9,2,2.1,2.2,2.3,2.4,2.5,'scale'],    # Dla rbf\n",
    "    'kernel': ['sigmoid'] ,\n",
    "    'degree':[2],# Typ jądra,\n",
    "    'class_weight': ['balanced']\n",
    "}"
   ],
   "id": "4e55f5a00cf5bae9",
   "outputs": [],
   "execution_count": 31
  },
  {
   "metadata": {
    "ExecuteTime": {
     "end_time": "2025-01-11T14:55:12.627778Z",
     "start_time": "2025-01-11T14:55:11.699581Z"
    }
   },
   "cell_type": "code",
   "source": [
    "searcher=GridSearchCV(SVC(), param_grid,cv=5,scoring='f1_weighted',n_jobs=-1)\n",
    "searcher.fit(X,y)\n",
    "print(searcher.best_params_)\n",
    "print(searcher.best_score_)"
   ],
   "id": "845e34556360ca79",
   "outputs": [
    {
     "name": "stdout",
     "output_type": "stream",
     "text": [
      "{'C': 0.79, 'class_weight': 'balanced', 'degree': 2, 'gamma': 2.5, 'kernel': 'sigmoid'}\n",
      "0.6068253968253968\n"
     ]
    }
   ],
   "execution_count": 32
  },
  {
   "metadata": {
    "ExecuteTime": {
     "end_time": "2025-01-11T14:57:25.169854Z",
     "start_time": "2025-01-11T14:57:24.964630Z"
    }
   },
   "cell_type": "code",
   "source": [
    "from sklearn.model_selection import cross_val_score\n",
    "cv_result=cross_val_score(SVC(**searcher.best_params_), X, y, cv=5,scoring='f1_weighted')\n",
    "print(cv_result)\n",
    "print(cv_result.mean())"
   ],
   "id": "e386266068ad4749",
   "outputs": [
    {
     "name": "stdout",
     "output_type": "stream",
     "text": [
      "[0.70555556 0.66666667 0.53968254 0.65555556 0.46666667]\n",
      "0.6068253968253968\n"
     ]
    }
   ],
   "execution_count": 34
  },
  {
   "metadata": {
    "ExecuteTime": {
     "end_time": "2025-01-11T15:00:09.965328Z",
     "start_time": "2025-01-11T15:00:09.880293Z"
    }
   },
   "cell_type": "code",
   "source": [
    "from sklearn.metrics import f1_score\n",
    "from sklearn.model_selection import train_test_split\n",
    "\n",
    "X_train, X_test, y_train, y_test = train_test_split(X, y, test_size=0.2, random_state=0)\n",
    "\n",
    "testing_svc=SVC(**searcher.best_params_)\n",
    "testing_svc.fit(X_train,y_train)\n",
    "print(f1_score(y_test, testing_svc.predict(X_test), average='weighted'))"
   ],
   "id": "2d836c5b1f835b7f",
   "outputs": [
    {
     "name": "stdout",
     "output_type": "stream",
     "text": [
      "0.6388888888888888\n"
     ]
    }
   ],
   "execution_count": 36
  }
 ],
 "metadata": {
  "kernelspec": {
   "display_name": "Python ML",
   "language": "python",
   "name": "pythonproject"
  },
  "language_info": {
   "codemirror_mode": {
    "name": "ipython",
    "version": 2
   },
   "file_extension": ".py",
   "mimetype": "text/x-python",
   "name": "python",
   "nbconvert_exporter": "python",
   "pygments_lexer": "ipython2",
   "version": "2.7.6"
  }
 },
 "nbformat": 4,
 "nbformat_minor": 5
}
