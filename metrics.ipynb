{
 "cells": [
  {
   "cell_type": "code",
   "id": "initial_id",
   "metadata": {
    "collapsed": true,
    "ExecuteTime": {
     "end_time": "2025-01-26T09:54:22.509475Z",
     "start_time": "2025-01-26T09:54:17.371514Z"
    }
   },
   "source": [
    "from itertools import product\n",
    "from sklearn.model_selection import cross_val_score\n",
    "from sklearn.metrics import confusion_matrix, accuracy_score, precision_score, recall_score, f1_score,roc_auc_score,make_scorer\n",
    "from collections import defaultdict\n",
    "from sklearn.tree import DecisionTreeClassifier\n",
    "from sklearn.svm import SVC\n",
    "from sklearn.naive_bayes import MultinomialNB\n",
    "from sklearn.linear_model import LogisticRegression\n",
    "from sklearn.preprocessing import MinMaxScaler\n",
    "from sklearn.ensemble import RandomForestClassifier\n",
    "import pandas as pd\n",
    "import numpy as np\n",
    "def specificity_score(y_true, y_pred):\n",
    "    tn, fp, fn, tp = confusion_matrix(y_true, y_pred).ravel()\n",
    "    return tn / (tn + fp) if (tn + fp) > 0 else 0\n",
    "df=pd.read_csv('./res/df_inne_choosen_entropy')\n",
    "X=df.drop('Moda',axis=1)\n",
    "y=df['Moda']\n",
    "scaler=MinMaxScaler()\n",
    "X_scaled=scaler.fit_transform(X)\n",
    "X=pd.DataFrame(X_scaled,columns=X.columns)\n",
    "#scorers=['accuracy','balanced_accuracy','top_k_accuracy','average_precision','neg_brier_score','f1','f1_micro','f1_macro','f1_weighted','f1_samples','neg_log_loss','precision','precision_micro','precision_macro','precision_weighted','precision_samples',]\n",
    "\n",
    "scorers=['f1_weighted','accuracy',make_scorer(precision_score,average='weighted',zero_division=np.nan),'recall_weighted','roc_auc_ovr','roc_auc_ovo']\n",
    "random_forest=RandomForestClassifier(**{'criterion': 'gini', 'max_depth': 6, 'min_samples_leaf': 1, 'min_samples_split': 2, 'n_estimators': 45})\n",
    "decision_tree_gini_choosen = DecisionTreeClassifier(**{'criterion': 'gini', 'max_depth': 6, 'min_impurity_decrease': 0.0, 'min_samples_leaf': 1, 'min_samples_split': 3}\n",
    ")\n",
    "svc=SVC(**{'C': 0.79, 'class_weight': 'balanced', 'degree': 2, 'gamma': 2.5, 'kernel': 'sigmoid'})\n",
    "lr=LogisticRegression(**{ 'class_weight': 'balanced', 'max_iter': 60, 'penalty': None, 'solver': 'sag', 'tol': 0.01, 'verbose': False})\n",
    "mnb=MultinomialNB(** {'alpha': 1.7346938775510203, 'class_prior': None, 'fit_prior': False, 'force_alpha': True})\n",
    "estimators=[decision_tree_gini_choosen,svc,lr,mnb,random_forest]\n",
    "metric_values=defaultdict(list)\n",
    "i=1\n",
    "comb=list(product(scorers,estimators))\n",
    "for scorer,estimator in list(product(scorers, estimators)):\n",
    "    \n",
    "        \n",
    "    try:\n",
    "        cv_scores=cross_val_score(estimator,X,y,cv=5,scoring=scorer,n_jobs=-1)\n",
    "        metric_values[type(estimator)].append((scorer,cv_scores.mean()))\n",
    "    except Exception as e:\n",
    "       metric_values[type(estimator)].append((scorer,'nie_policzono'))"
   ],
   "outputs": [
    {
     "name": "stderr",
     "output_type": "stream",
     "text": [
      "/home/mysza/pythonProject/.venv/lib/python3.10/site-packages/sklearn/linear_model/_sag.py:348: ConvergenceWarning: The max_iter was reached which means the coef_ did not converge\n",
      "  warnings.warn(\n",
      "/home/mysza/pythonProject/.venv/lib/python3.10/site-packages/sklearn/model_selection/_validation.py:978: UserWarning: Scoring failed. The score on this train-test partition for these parameters will be set to nan. Details: \n",
      "Traceback (most recent call last):\n",
      "  File \"/home/mysza/pythonProject/.venv/lib/python3.10/site-packages/sklearn/metrics/_scorer.py\", line 140, in __call__\n",
      "    score = scorer._score(\n",
      "  File \"/home/mysza/pythonProject/.venv/lib/python3.10/site-packages/sklearn/metrics/_scorer.py\", line 379, in _score\n",
      "    response_method = _check_response_method(estimator, self._response_method)\n",
      "  File \"/home/mysza/pythonProject/.venv/lib/python3.10/site-packages/sklearn/utils/validation.py\", line 2283, in _check_response_method\n",
      "    raise AttributeError(\n",
      "AttributeError: SVC has none of the following attributes: predict_proba.\n",
      "\n",
      "  warnings.warn(\n",
      "/home/mysza/pythonProject/.venv/lib/python3.10/site-packages/sklearn/model_selection/_validation.py:978: UserWarning: Scoring failed. The score on this train-test partition for these parameters will be set to nan. Details: \n",
      "Traceback (most recent call last):\n",
      "  File \"/home/mysza/pythonProject/.venv/lib/python3.10/site-packages/sklearn/metrics/_scorer.py\", line 140, in __call__\n",
      "    score = scorer._score(\n",
      "  File \"/home/mysza/pythonProject/.venv/lib/python3.10/site-packages/sklearn/metrics/_scorer.py\", line 379, in _score\n",
      "    response_method = _check_response_method(estimator, self._response_method)\n",
      "  File \"/home/mysza/pythonProject/.venv/lib/python3.10/site-packages/sklearn/utils/validation.py\", line 2283, in _check_response_method\n",
      "    raise AttributeError(\n",
      "AttributeError: SVC has none of the following attributes: predict_proba.\n",
      "\n",
      "  warnings.warn(\n",
      "/home/mysza/pythonProject/.venv/lib/python3.10/site-packages/sklearn/model_selection/_validation.py:978: UserWarning: Scoring failed. The score on this train-test partition for these parameters will be set to nan. Details: \n",
      "Traceback (most recent call last):\n",
      "  File \"/home/mysza/pythonProject/.venv/lib/python3.10/site-packages/sklearn/metrics/_scorer.py\", line 140, in __call__\n",
      "    score = scorer._score(\n",
      "  File \"/home/mysza/pythonProject/.venv/lib/python3.10/site-packages/sklearn/metrics/_scorer.py\", line 379, in _score\n",
      "    response_method = _check_response_method(estimator, self._response_method)\n",
      "  File \"/home/mysza/pythonProject/.venv/lib/python3.10/site-packages/sklearn/utils/validation.py\", line 2283, in _check_response_method\n",
      "    raise AttributeError(\n",
      "AttributeError: SVC has none of the following attributes: predict_proba.\n",
      "\n",
      "  warnings.warn(\n",
      "/home/mysza/pythonProject/.venv/lib/python3.10/site-packages/sklearn/model_selection/_validation.py:978: UserWarning: Scoring failed. The score on this train-test partition for these parameters will be set to nan. Details: \n",
      "Traceback (most recent call last):\n",
      "  File \"/home/mysza/pythonProject/.venv/lib/python3.10/site-packages/sklearn/metrics/_scorer.py\", line 140, in __call__\n",
      "    score = scorer._score(\n",
      "  File \"/home/mysza/pythonProject/.venv/lib/python3.10/site-packages/sklearn/metrics/_scorer.py\", line 379, in _score\n",
      "    response_method = _check_response_method(estimator, self._response_method)\n",
      "  File \"/home/mysza/pythonProject/.venv/lib/python3.10/site-packages/sklearn/utils/validation.py\", line 2283, in _check_response_method\n",
      "    raise AttributeError(\n",
      "AttributeError: SVC has none of the following attributes: predict_proba.\n",
      "\n",
      "  warnings.warn(\n",
      "/home/mysza/pythonProject/.venv/lib/python3.10/site-packages/sklearn/model_selection/_validation.py:978: UserWarning: Scoring failed. The score on this train-test partition for these parameters will be set to nan. Details: \n",
      "Traceback (most recent call last):\n",
      "  File \"/home/mysza/pythonProject/.venv/lib/python3.10/site-packages/sklearn/metrics/_scorer.py\", line 140, in __call__\n",
      "    score = scorer._score(\n",
      "  File \"/home/mysza/pythonProject/.venv/lib/python3.10/site-packages/sklearn/metrics/_scorer.py\", line 379, in _score\n",
      "    response_method = _check_response_method(estimator, self._response_method)\n",
      "  File \"/home/mysza/pythonProject/.venv/lib/python3.10/site-packages/sklearn/utils/validation.py\", line 2283, in _check_response_method\n",
      "    raise AttributeError(\n",
      "AttributeError: SVC has none of the following attributes: predict_proba.\n",
      "\n",
      "  warnings.warn(\n",
      "/home/mysza/pythonProject/.venv/lib/python3.10/site-packages/sklearn/model_selection/_validation.py:978: UserWarning: Scoring failed. The score on this train-test partition for these parameters will be set to nan. Details: \n",
      "Traceback (most recent call last):\n",
      "  File \"/home/mysza/pythonProject/.venv/lib/python3.10/site-packages/sklearn/metrics/_scorer.py\", line 140, in __call__\n",
      "    score = scorer._score(\n",
      "  File \"/home/mysza/pythonProject/.venv/lib/python3.10/site-packages/sklearn/metrics/_scorer.py\", line 379, in _score\n",
      "    response_method = _check_response_method(estimator, self._response_method)\n",
      "  File \"/home/mysza/pythonProject/.venv/lib/python3.10/site-packages/sklearn/utils/validation.py\", line 2283, in _check_response_method\n",
      "    raise AttributeError(\n",
      "AttributeError: SVC has none of the following attributes: predict_proba.\n",
      "\n",
      "  warnings.warn(\n",
      "/home/mysza/pythonProject/.venv/lib/python3.10/site-packages/sklearn/model_selection/_validation.py:978: UserWarning: Scoring failed. The score on this train-test partition for these parameters will be set to nan. Details: \n",
      "Traceback (most recent call last):\n",
      "  File \"/home/mysza/pythonProject/.venv/lib/python3.10/site-packages/sklearn/metrics/_scorer.py\", line 140, in __call__\n",
      "    score = scorer._score(\n",
      "  File \"/home/mysza/pythonProject/.venv/lib/python3.10/site-packages/sklearn/metrics/_scorer.py\", line 379, in _score\n",
      "    response_method = _check_response_method(estimator, self._response_method)\n",
      "  File \"/home/mysza/pythonProject/.venv/lib/python3.10/site-packages/sklearn/utils/validation.py\", line 2283, in _check_response_method\n",
      "    raise AttributeError(\n",
      "AttributeError: SVC has none of the following attributes: predict_proba.\n",
      "\n",
      "  warnings.warn(\n",
      "/home/mysza/pythonProject/.venv/lib/python3.10/site-packages/sklearn/model_selection/_validation.py:978: UserWarning: Scoring failed. The score on this train-test partition for these parameters will be set to nan. Details: \n",
      "Traceback (most recent call last):\n",
      "  File \"/home/mysza/pythonProject/.venv/lib/python3.10/site-packages/sklearn/metrics/_scorer.py\", line 140, in __call__\n",
      "    score = scorer._score(\n",
      "  File \"/home/mysza/pythonProject/.venv/lib/python3.10/site-packages/sklearn/metrics/_scorer.py\", line 379, in _score\n",
      "    response_method = _check_response_method(estimator, self._response_method)\n",
      "  File \"/home/mysza/pythonProject/.venv/lib/python3.10/site-packages/sklearn/utils/validation.py\", line 2283, in _check_response_method\n",
      "    raise AttributeError(\n",
      "AttributeError: SVC has none of the following attributes: predict_proba.\n",
      "\n",
      "  warnings.warn(\n",
      "/home/mysza/pythonProject/.venv/lib/python3.10/site-packages/sklearn/model_selection/_validation.py:978: UserWarning: Scoring failed. The score on this train-test partition for these parameters will be set to nan. Details: \n",
      "Traceback (most recent call last):\n",
      "  File \"/home/mysza/pythonProject/.venv/lib/python3.10/site-packages/sklearn/metrics/_scorer.py\", line 140, in __call__\n",
      "    score = scorer._score(\n",
      "  File \"/home/mysza/pythonProject/.venv/lib/python3.10/site-packages/sklearn/metrics/_scorer.py\", line 379, in _score\n",
      "    response_method = _check_response_method(estimator, self._response_method)\n",
      "  File \"/home/mysza/pythonProject/.venv/lib/python3.10/site-packages/sklearn/utils/validation.py\", line 2283, in _check_response_method\n",
      "    raise AttributeError(\n",
      "AttributeError: SVC has none of the following attributes: predict_proba.\n",
      "\n",
      "  warnings.warn(\n",
      "/home/mysza/pythonProject/.venv/lib/python3.10/site-packages/sklearn/model_selection/_validation.py:978: UserWarning: Scoring failed. The score on this train-test partition for these parameters will be set to nan. Details: \n",
      "Traceback (most recent call last):\n",
      "  File \"/home/mysza/pythonProject/.venv/lib/python3.10/site-packages/sklearn/metrics/_scorer.py\", line 140, in __call__\n",
      "    score = scorer._score(\n",
      "  File \"/home/mysza/pythonProject/.venv/lib/python3.10/site-packages/sklearn/metrics/_scorer.py\", line 379, in _score\n",
      "    response_method = _check_response_method(estimator, self._response_method)\n",
      "  File \"/home/mysza/pythonProject/.venv/lib/python3.10/site-packages/sklearn/utils/validation.py\", line 2283, in _check_response_method\n",
      "    raise AttributeError(\n",
      "AttributeError: SVC has none of the following attributes: predict_proba.\n",
      "\n",
      "  warnings.warn(\n",
      "/home/mysza/pythonProject/.venv/lib/python3.10/site-packages/sklearn/linear_model/_sag.py:348: ConvergenceWarning: The max_iter was reached which means the coef_ did not converge\n",
      "  warnings.warn(\n"
     ]
    }
   ],
   "execution_count": 5
  },
  {
   "metadata": {
    "ExecuteTime": {
     "end_time": "2025-01-26T09:54:56.145998Z",
     "start_time": "2025-01-26T09:54:56.136080Z"
    }
   },
   "cell_type": "code",
   "source": "print(df.columns)",
   "id": "c040c15492783d17",
   "outputs": [
    {
     "name": "stdout",
     "output_type": "stream",
     "text": [
      "Index(['Moda', 'Muzyka__Rock', 'Miasto__Poznan', 'Zajecie__Sport',\n",
      "       'Media_u__TikTok', 'Paznokcie__nie', 'Wakacje__Praca',\n",
      "       'Wartosc__Kariera', 'Napoj__woda'],\n",
      "      dtype='object')\n"
     ]
    }
   ],
   "execution_count": 7
  },
  {
   "metadata": {
    "ExecuteTime": {
     "end_time": "2025-01-24T11:24:31.293138Z",
     "start_time": "2025-01-24T11:24:31.285524Z"
    }
   },
   "cell_type": "code",
   "source": [
    "\n",
    "for key,value in metric_values.items():\n",
    "    for x in value:\n",
    "        print(f'model : {key} : {x[0]} : {x[1]}')\n"
   ],
   "id": "6876e3b925981fde",
   "outputs": [
    {
     "name": "stdout",
     "output_type": "stream",
     "text": [
      "model : <class 'sklearn.tree._classes.DecisionTreeClassifier'> : f1_weighted : 0.6187301587301587\n",
      "model : <class 'sklearn.tree._classes.DecisionTreeClassifier'> : accuracy : 0.6599999999999999\n",
      "model : <class 'sklearn.tree._classes.DecisionTreeClassifier'> : make_scorer(precision_score, response_method='predict', average=weighted, zero_division=nan) : 0.7928333333333334\n",
      "model : <class 'sklearn.tree._classes.DecisionTreeClassifier'> : recall_weighted : 0.6599999999999999\n",
      "model : <class 'sklearn.tree._classes.DecisionTreeClassifier'> : roc_auc_ovr : 0.7915740740740741\n",
      "model : <class 'sklearn.tree._classes.DecisionTreeClassifier'> : roc_auc_ovo : 0.7972222222222223\n",
      "model : <class 'sklearn.svm._classes.SVC'> : f1_weighted : 0.6068253968253968\n",
      "model : <class 'sklearn.svm._classes.SVC'> : accuracy : 0.6533333333333333\n",
      "model : <class 'sklearn.svm._classes.SVC'> : make_scorer(precision_score, response_method='predict', average=weighted, zero_division=nan) : 0.7263888888888889\n",
      "model : <class 'sklearn.svm._classes.SVC'> : recall_weighted : 0.6533333333333333\n",
      "model : <class 'sklearn.svm._classes.SVC'> : roc_auc_ovr : nan\n",
      "model : <class 'sklearn.svm._classes.SVC'> : roc_auc_ovo : nan\n",
      "model : <class 'sklearn.linear_model._logistic.LogisticRegression'> : f1_weighted : 0.4557142857142857\n",
      "model : <class 'sklearn.linear_model._logistic.LogisticRegression'> : accuracy : 0.5133333333333333\n",
      "model : <class 'sklearn.linear_model._logistic.LogisticRegression'> : make_scorer(precision_score, response_method='predict', average=weighted, zero_division=nan) : 0.5819444444444445\n",
      "model : <class 'sklearn.linear_model._logistic.LogisticRegression'> : recall_weighted : 0.5466666666666666\n",
      "model : <class 'sklearn.linear_model._logistic.LogisticRegression'> : roc_auc_ovr : 0.8161111111111111\n",
      "model : <class 'sklearn.linear_model._logistic.LogisticRegression'> : roc_auc_ovo : 0.8166666666666667\n",
      "model : <class 'sklearn.naive_bayes.MultinomialNB'> : f1_weighted : 0.42866666666666664\n",
      "model : <class 'sklearn.naive_bayes.MultinomialNB'> : accuracy : 0.48\n",
      "model : <class 'sklearn.naive_bayes.MultinomialNB'> : make_scorer(precision_score, response_method='predict', average=weighted, zero_division=nan) : 0.513888888888889\n",
      "model : <class 'sklearn.naive_bayes.MultinomialNB'> : recall_weighted : 0.48\n",
      "model : <class 'sklearn.naive_bayes.MultinomialNB'> : roc_auc_ovr : 0.6855555555555555\n",
      "model : <class 'sklearn.naive_bayes.MultinomialNB'> : roc_auc_ovo : 0.7055555555555556\n",
      "model : <class 'sklearn.ensemble._forest.RandomForestClassifier'> : f1_weighted : 0.6331746031746032\n",
      "model : <class 'sklearn.ensemble._forest.RandomForestClassifier'> : accuracy : 0.62\n",
      "model : <class 'sklearn.ensemble._forest.RandomForestClassifier'> : make_scorer(precision_score, response_method='predict', average=weighted, zero_division=nan) : 0.7719444444444445\n",
      "model : <class 'sklearn.ensemble._forest.RandomForestClassifier'> : recall_weighted : 0.58\n",
      "model : <class 'sklearn.ensemble._forest.RandomForestClassifier'> : roc_auc_ovr : 0.7855555555555556\n",
      "model : <class 'sklearn.ensemble._forest.RandomForestClassifier'> : roc_auc_ovo : 0.8638888888888889\n"
     ]
    }
   ],
   "execution_count": 110
  },
  {
   "metadata": {
    "ExecuteTime": {
     "end_time": "2025-01-24T10:23:49.426883Z",
     "start_time": "2025-01-24T10:23:49.417607Z"
    }
   },
   "cell_type": "code",
   "source": "print(metric_values[type(estimators[0])])",
   "id": "ff94d2f2d424be56",
   "outputs": [
    {
     "name": "stdout",
     "output_type": "stream",
     "text": [
      "[('f1_weighted', np.float64(0.7652698412698413)), ('f1_weighted', np.float64(0.6679365079365078)), ('accuracy', np.float64(0.7933333333333333)), ('accuracy', np.float64(0.6799999999999999)), (make_scorer(precision_score, response_method='predict', average=weighted, zero_division=nan), np.float64(0.8466666666666667)), (make_scorer(precision_score, response_method='predict', average=weighted, zero_division=nan), np.float64(0.7433333333333334)), ('recall_weighted', np.float64(0.7933333333333333)), ('recall_weighted', np.float64(0.6799999999999999)), ('roc_auc_ovr', np.float64(0.8146296296296296)), ('roc_auc_ovr', np.float64(0.7362037037037037)), ('roc_auc_ovo', np.float64(0.8083333333333332)), ('roc_auc_ovo', np.float64(0.7263888888888889))]\n"
     ]
    }
   ],
   "execution_count": 90
  }
 ],
 "metadata": {
  "kernelspec": {
   "display_name": "Python ML",
   "language": "python",
   "name": "pythonproject"
  },
  "language_info": {
   "codemirror_mode": {
    "name": "ipython",
    "version": 2
   },
   "file_extension": ".py",
   "mimetype": "text/x-python",
   "name": "python",
   "nbconvert_exporter": "python",
   "pygments_lexer": "ipython2",
   "version": "2.7.6"
  }
 },
 "nbformat": 4,
 "nbformat_minor": 5
}
