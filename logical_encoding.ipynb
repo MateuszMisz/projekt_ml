{
 "cells": [
  {
   "cell_type": "code",
   "id": "initial_id",
   "metadata": {
    "collapsed": true,
    "ExecuteTime": {
     "end_time": "2025-01-26T11:39:42.457923Z",
     "start_time": "2025-01-26T11:39:40.430355Z"
    }
   },
   "source": [
    "import numpy as np\n",
    "from sklearn.model_selection import train_test_split, cross_val_score\n",
    "from sklearn.ensemble import RandomForestClassifier\n",
    "from sklearn.tree import DecisionTreeClassifier\n",
    "from sklearn.feature_selection import RFE\n",
    "from sklearn.metrics import make_scorer, matthews_corrcoef\n",
    "from sklearn.datasets import make_classification\n",
    "from sklearn.preprocessing import LabelEncoder, OneHotEncoder\n",
    "import pandas as pd"
   ],
   "outputs": [],
   "execution_count": 1
  },
  {
   "metadata": {
    "ExecuteTime": {
     "end_time": "2025-01-26T11:39:42.482168Z",
     "start_time": "2025-01-26T11:39:42.463548Z"
    }
   },
   "cell_type": "code",
   "source": "df=pd.read_csv('./res/df_inne_dropped')",
   "id": "a3e3ec85fc82ffe6",
   "outputs": [],
   "execution_count": 2
  },
  {
   "metadata": {
    "ExecuteTime": {
     "end_time": "2025-01-26T11:39:42.494549Z",
     "start_time": "2025-01-26T11:39:42.486144Z"
    }
   },
   "cell_type": "code",
   "source": [
    "types_of_categories={}\n",
    "ordered=['Powietrze','Media_k','Gry_czas']"
   ],
   "id": "6702cc724c5ad6d8",
   "outputs": [],
   "execution_count": 3
  },
  {
   "metadata": {
    "ExecuteTime": {
     "end_time": "2025-01-26T11:39:42.512787Z",
     "start_time": "2025-01-26T11:39:42.497994Z"
    }
   },
   "cell_type": "code",
   "source": [
    "###dla atrybutow porzadkowych\n",
    "print(df['Powietrze'].value_counts())"
   ],
   "id": "cb63fec796230ba0",
   "outputs": [
    {
     "name": "stdout",
     "output_type": "stream",
     "text": [
      "Powietrze\n",
      "Codziennie               15\n",
      "Kilka razy w tygodniu    13\n",
      "Rzadko                    1\n",
      "Name: count, dtype: int64\n"
     ]
    }
   ],
   "execution_count": 4
  },
  {
   "metadata": {
    "ExecuteTime": {
     "end_time": "2025-01-26T11:39:42.533383Z",
     "start_time": "2025-01-26T11:39:42.521833Z"
    }
   },
   "cell_type": "code",
   "source": [
    "from copy import deepcopy\n",
    "df_encoded=deepcopy(df)\n",
    "encoder_powietrze=LabelEncoder()\n",
    "ordered=['Rzadko','Kilka razy w tygodniu','Codziennie']\n",
    "\n",
    "def ordered_encoding(data:pd.DataFrame,etyquete_dict:dict)->list:\n",
    "    #label_dict={}\n",
    "    new_vals=[]\n",
    "    #for idx,elem in enumerate(order):\n",
    "     #   label_dict[elem]=idx\n",
    "    #print(label_dict)\n",
    "    #print(data.values.flatten())\n",
    "    #for elem in data.values.flatten() :\n",
    "     #   new_vals.append(label_dict[elem])\n",
    "    #return new_vals\n",
    "    for elem in data.values.flatten():\n",
    "        new_vals.append(etyquete_dict[elem])\n",
    "    return new_vals"
   ],
   "id": "369ae671c20678c6",
   "outputs": [],
   "execution_count": 5
  },
  {
   "metadata": {
    "ExecuteTime": {
     "end_time": "2025-01-26T11:39:42.548795Z",
     "start_time": "2025-01-26T11:39:42.538160Z"
    }
   },
   "cell_type": "code",
   "source": [
    "####dla 3 kolumn ktore podmienilismy mamy gotowe kody, i nie trzeba samemu wpisywac wartosci\n",
    "colname='Powietrze' ## wpisujemy kolumne do sprawdzenia\n",
    "print(df[colname])\n"
   ],
   "id": "8aeebae11264c77f",
   "outputs": [
    {
     "name": "stdout",
     "output_type": "stream",
     "text": [
      "0                Codziennie\n",
      "1                Codziennie\n",
      "2                Codziennie\n",
      "3     Kilka razy w tygodniu\n",
      "4                Codziennie\n",
      "5     Kilka razy w tygodniu\n",
      "6                Codziennie\n",
      "7     Kilka razy w tygodniu\n",
      "8     Kilka razy w tygodniu\n",
      "9                Codziennie\n",
      "10               Codziennie\n",
      "11                   Rzadko\n",
      "12               Codziennie\n",
      "13               Codziennie\n",
      "14    Kilka razy w tygodniu\n",
      "15    Kilka razy w tygodniu\n",
      "16               Codziennie\n",
      "17               Codziennie\n",
      "18    Kilka razy w tygodniu\n",
      "19               Codziennie\n",
      "20               Codziennie\n",
      "21    Kilka razy w tygodniu\n",
      "22    Kilka razy w tygodniu\n",
      "23               Codziennie\n",
      "24    Kilka razy w tygodniu\n",
      "25               Codziennie\n",
      "26    Kilka razy w tygodniu\n",
      "27    Kilka razy w tygodniu\n",
      "28    Kilka razy w tygodniu\n",
      "Name: Powietrze, dtype: object\n"
     ]
    }
   ],
   "execution_count": 6
  },
  {
   "metadata": {
    "ExecuteTime": {
     "end_time": "2025-01-26T11:39:42.578805Z",
     "start_time": "2025-01-26T11:39:42.554517Z"
    }
   },
   "cell_type": "code",
   "source": [
    "\n",
    "etiquete_dict={'Rzadko':1,'Kilka razy w tygodniu':4,'Codziennie':7} ###przypisujemy zakodowanie do wartosci. tylko atrbuty porzadkowe!!!!!1\n",
    "df[colname]=ordered_encoding(df[colname], etiquete_dict)\n",
    "print(df[colname])"
   ],
   "id": "50e3c51e162a9b96",
   "outputs": [
    {
     "name": "stdout",
     "output_type": "stream",
     "text": [
      "0     7\n",
      "1     7\n",
      "2     7\n",
      "3     4\n",
      "4     7\n",
      "5     4\n",
      "6     7\n",
      "7     4\n",
      "8     4\n",
      "9     7\n",
      "10    7\n",
      "11    1\n",
      "12    7\n",
      "13    7\n",
      "14    4\n",
      "15    4\n",
      "16    7\n",
      "17    7\n",
      "18    4\n",
      "19    7\n",
      "20    7\n",
      "21    4\n",
      "22    4\n",
      "23    7\n",
      "24    4\n",
      "25    7\n",
      "26    4\n",
      "27    4\n",
      "28    4\n",
      "Name: Powietrze, dtype: int64\n"
     ]
    }
   ],
   "execution_count": 7
  },
  {
   "metadata": {
    "ExecuteTime": {
     "end_time": "2025-01-26T11:39:42.604097Z",
     "start_time": "2025-01-26T11:39:42.584696Z"
    }
   },
   "cell_type": "code",
   "source": [
    "print(df['Media_k'].value_counts())\n",
    "df['Media_k']=ordered_encoding(df['Media_k'],etiquete_dict)\n",
    "print(df['Media_k'].value_counts())"
   ],
   "id": "22ee6c4a3dd4eefb",
   "outputs": [
    {
     "name": "stdout",
     "output_type": "stream",
     "text": [
      "Media_k\n",
      "Codziennie               20\n",
      "Kilka razy w tygodniu     6\n",
      "Rzadko                    3\n",
      "Name: count, dtype: int64\n",
      "Media_k\n",
      "7    20\n",
      "4     6\n",
      "1     3\n",
      "Name: count, dtype: int64\n"
     ]
    }
   ],
   "execution_count": 8
  },
  {
   "metadata": {
    "ExecuteTime": {
     "end_time": "2025-01-26T11:39:42.624913Z",
     "start_time": "2025-01-26T11:39:42.608046Z"
    }
   },
   "cell_type": "code",
   "source": [
    "etiquete_dict={'Rzadko':0,'Raz w tygodniu':1,'Kilka razy w tygodniu':4,'Codziennie':7}\n",
    "\n",
    "print(df['gry_czas'].value_counts())\n",
    "df['gry_czas']=ordered_encoding(df['gry_czas'],etiquete_dict)\n",
    "print(df['gry_czas'].value_counts())"
   ],
   "id": "b07b961582741013",
   "outputs": [
    {
     "name": "stdout",
     "output_type": "stream",
     "text": [
      "gry_czas\n",
      "Rzadko                   12\n",
      "Kilka razy w tygodniu     9\n",
      "Codziennie                5\n",
      "Raz w tygodniu            3\n",
      "Name: count, dtype: int64\n",
      "gry_czas\n",
      "0    12\n",
      "4     9\n",
      "7     5\n",
      "1     3\n",
      "Name: count, dtype: int64\n"
     ]
    }
   ],
   "execution_count": 9
  },
  {
   "metadata": {
    "ExecuteTime": {
     "end_time": "2025-01-26T11:39:42.642856Z",
     "start_time": "2025-01-26T11:39:42.630804Z"
    }
   },
   "cell_type": "code",
   "source": "print(df.columns)",
   "id": "9827878607e35b5d",
   "outputs": [
    {
     "name": "stdout",
     "output_type": "stream",
     "text": [
      "Index(['Moda', 'Muzyka', 'Film', 'Sport_u', 'Sport_o', 'Komputer', 'Samochod',\n",
      "       'Literatura', 'Smak', 'Wolny_czas', 'Miasto', 'Kraj', 'Wzrost', 'Włosy',\n",
      "       'Okulary', 'Przedmiot', 'Gra', 'Wf', 'Sniadanie', 'Kino_teatr', 'Pora',\n",
      "       'Ksiazki', 'Gotowanie', 'Zajecie', 'Media_u', 'Technologie',\n",
      "       'Powietrze', 'Fryzura', 'Media_k', 'Paznokcie', 'Wakacje',\n",
      "       'Rod_prz_sam', 'gry_czas', 'Jedzenie', 'Wartosc', 'Napoj', 'Dom',\n",
      "       'Zwierzak', 'Plec'],\n",
      "      dtype='object')\n"
     ]
    }
   ],
   "execution_count": 10
  },
  {
   "metadata": {
    "ExecuteTime": {
     "end_time": "2025-01-26T11:39:42.663761Z",
     "start_time": "2025-01-26T11:39:42.649364Z"
    }
   },
   "cell_type": "code",
   "source": [
    "####dla atrybutu decyyzjnego\n",
    "\n",
    "encoder=LabelEncoder()\n",
    "df['Moda']=encoder.fit_transform(df['Moda'])\n",
    "print(df['Moda'].value_counts())\n"
   ],
   "id": "ddd8f05dc22803dc",
   "outputs": [
    {
     "name": "stdout",
     "output_type": "stream",
     "text": [
      "Moda\n",
      "0    13\n",
      "2     8\n",
      "1     8\n",
      "Name: count, dtype: int64\n"
     ]
    }
   ],
   "execution_count": 11
  },
  {
   "metadata": {
    "ExecuteTime": {
     "end_time": "2025-01-26T11:39:42.686623Z",
     "start_time": "2025-01-26T11:39:42.671166Z"
    }
   },
   "cell_type": "code",
   "source": "print(encoder.classes_)",
   "id": "b243f749812ef826",
   "outputs": [
    {
     "name": "stdout",
     "output_type": "stream",
     "text": [
      "['Casual' 'Elegancki' 'nie dbam o mode']\n"
     ]
    }
   ],
   "execution_count": 12
  },
  {
   "metadata": {
    "ExecuteTime": {
     "end_time": "2025-01-26T11:39:42.707476Z",
     "start_time": "2025-01-26T11:39:42.692786Z"
    }
   },
   "cell_type": "code",
   "source": [
    "######zmieniei WF na liczby\n",
    "def stoi(string:str)->int:\n",
    "    new_str=''\n",
    "    for character in string:\n",
    "        if character.isnumeric():\n",
    "            new_str+=character\n",
    "        else: \n",
    "            break\n",
    "    return int(new_str)\n",
    "df['Wf']=df['Wf'].apply(stoi)\n",
    "print(df['Wf'])"
   ],
   "id": "4935b4d4763103cd",
   "outputs": [
    {
     "name": "stdout",
     "output_type": "stream",
     "text": [
      "0     2\n",
      "1     0\n",
      "2     1\n",
      "3     2\n",
      "4     1\n",
      "5     2\n",
      "6     1\n",
      "7     1\n",
      "8     1\n",
      "9     2\n",
      "10    2\n",
      "11    0\n",
      "12    1\n",
      "13    1\n",
      "14    1\n",
      "15    1\n",
      "16    1\n",
      "17    1\n",
      "18    1\n",
      "19    1\n",
      "20    0\n",
      "21    0\n",
      "22    0\n",
      "23    2\n",
      "24    1\n",
      "25    1\n",
      "26    1\n",
      "27    1\n",
      "28    2\n",
      "Name: Wf, dtype: int64\n"
     ]
    }
   ],
   "execution_count": 13
  },
  {
   "metadata": {
    "ExecuteTime": {
     "end_time": "2025-01-26T11:39:42.811322Z",
     "start_time": "2025-01-26T11:39:42.716162Z"
    }
   },
   "cell_type": "code",
   "source": [
    "###kolumny ktore dalej nie sa licbzowe po poprzednich zmianach kodujemy z one hot\n",
    "category_columns=df.select_dtypes(include='object').columns\n",
    "en_df=pd.get_dummies(df,columns=category_columns,prefix=[col+'_' for col in category_columns])\n",
    "print(en_df['Moda'])\n"
   ],
   "id": "a965cfab25e73dfa",
   "outputs": [
    {
     "name": "stdout",
     "output_type": "stream",
     "text": [
      "0     0\n",
      "1     2\n",
      "2     0\n",
      "3     0\n",
      "4     0\n",
      "5     2\n",
      "6     2\n",
      "7     2\n",
      "8     0\n",
      "9     0\n",
      "10    1\n",
      "11    1\n",
      "12    0\n",
      "13    0\n",
      "14    0\n",
      "15    1\n",
      "16    1\n",
      "17    1\n",
      "18    1\n",
      "19    1\n",
      "20    2\n",
      "21    2\n",
      "22    2\n",
      "23    1\n",
      "24    2\n",
      "25    0\n",
      "26    0\n",
      "27    0\n",
      "28    0\n",
      "Name: Moda, dtype: int64\n"
     ]
    }
   ],
   "execution_count": 14
  },
  {
   "metadata": {
    "ExecuteTime": {
     "end_time": "2025-01-26T11:39:42.842890Z",
     "start_time": "2025-01-26T11:39:42.817059Z"
    }
   },
   "cell_type": "code",
   "source": "en_df.to_csv('./res/df_inne_encoded_logically_final.csv',index=False)",
   "id": "c9dd043dd7bd947a",
   "outputs": [],
   "execution_count": 15
  },
  {
   "metadata": {
    "ExecuteTime": {
     "end_time": "2025-01-26T11:39:42.854711Z",
     "start_time": "2025-01-26T11:39:42.848217Z"
    }
   },
   "cell_type": "code",
   "source": "",
   "id": "ad612960b4b840f6",
   "outputs": [],
   "execution_count": 15
  },
  {
   "metadata": {
    "ExecuteTime": {
     "end_time": "2025-01-26T11:39:42.864566Z",
     "start_time": "2025-01-26T11:39:42.858196Z"
    }
   },
   "cell_type": "code",
   "source": "",
   "id": "d8f69a13119df39f",
   "outputs": [],
   "execution_count": 15
  },
  {
   "metadata": {
    "ExecuteTime": {
     "end_time": "2025-01-26T11:39:42.874422Z",
     "start_time": "2025-01-26T11:39:42.868649Z"
    }
   },
   "cell_type": "code",
   "source": "",
   "id": "17f833390fab3efb",
   "outputs": [],
   "execution_count": 15
  },
  {
   "metadata": {},
   "cell_type": "code",
   "outputs": [],
   "execution_count": null,
   "source": "",
   "id": "e2ea47016cf13838"
  }
 ],
 "metadata": {
  "kernelspec": {
   "display_name": "Python ML",
   "language": "python",
   "name": "pythonproject"
  },
  "language_info": {
   "codemirror_mode": {
    "name": "ipython",
    "version": 2
   },
   "file_extension": ".py",
   "mimetype": "text/x-python",
   "name": "python",
   "nbconvert_exporter": "python",
   "pygments_lexer": "ipython2",
   "version": "2.7.6"
  }
 },
 "nbformat": 4,
 "nbformat_minor": 5
}
