{
 "cells": [
  {
   "cell_type": "code",
   "id": "initial_id",
   "metadata": {
    "collapsed": true,
    "ExecuteTime": {
     "end_time": "2025-01-10T18:14:07.993454Z",
     "start_time": "2025-01-10T18:14:07.984091Z"
    }
   },
   "source": [
    "import numpy as np\n",
    "from sklearn.model_selection import train_test_split, cross_val_score\n",
    "from sklearn.ensemble import RandomForestClassifier\n",
    "from sklearn.tree import DecisionTreeClassifier\n",
    "from sklearn.feature_selection import RFE\n",
    "from sklearn.metrics import make_scorer, matthews_corrcoef\n",
    "from sklearn.datasets import make_classification\n",
    "from sklearn.preprocessing import LabelEncoder, OneHotEncoder\n",
    "import pandas as pd"
   ],
   "outputs": [],
   "execution_count": 4
  },
  {
   "metadata": {
    "ExecuteTime": {
     "end_time": "2025-01-10T18:14:25.160429Z",
     "start_time": "2025-01-10T18:14:25.122038Z"
    }
   },
   "cell_type": "code",
   "source": "df=pd.read_csv('./res/df_inne_dropped')",
   "id": "a3e3ec85fc82ffe6",
   "outputs": [],
   "execution_count": 6
  },
  {
   "metadata": {
    "ExecuteTime": {
     "end_time": "2025-01-06T18:43:17.680160Z",
     "start_time": "2025-01-06T18:43:17.669678Z"
    }
   },
   "cell_type": "code",
   "source": [
    "types_of_categories={}\n",
    "ordered=['Powietrze','Media_k','Gry_czas']"
   ],
   "id": "6702cc724c5ad6d8",
   "outputs": [],
   "execution_count": 4
  },
  {
   "metadata": {
    "ExecuteTime": {
     "end_time": "2025-01-10T18:14:29.641355Z",
     "start_time": "2025-01-10T18:14:29.624039Z"
    }
   },
   "cell_type": "code",
   "source": "print(df['Powietrze'].value_counts())",
   "id": "cb63fec796230ba0",
   "outputs": [
    {
     "name": "stdout",
     "output_type": "stream",
     "text": [
      "Powietrze\n",
      "Codziennie               15\n",
      "Kilka razy w tygodniu    13\n",
      "Rzadko                    1\n",
      "Name: count, dtype: int64\n"
     ]
    }
   ],
   "execution_count": 7
  },
  {
   "metadata": {
    "ExecuteTime": {
     "end_time": "2025-01-10T18:14:39.690788Z",
     "start_time": "2025-01-10T18:14:39.679574Z"
    }
   },
   "cell_type": "code",
   "source": [
    "from copy import deepcopy\n",
    "df_encoded=deepcopy(df)\n",
    "encoder_powietrze=LabelEncoder()\n",
    "ordered=['Rzadko','Kilka razy w tygodniu','Codziennie']\n",
    "\n",
    "def ordered_encoding(data:pd.DataFrame,etyquete_dict:dict)->list:\n",
    "    #label_dict={}\n",
    "    new_vals=[]\n",
    "    #for idx,elem in enumerate(order):\n",
    "     #   label_dict[elem]=idx\n",
    "    #print(label_dict)\n",
    "    #print(data.values.flatten())\n",
    "    #for elem in data.values.flatten() :\n",
    "     #   new_vals.append(label_dict[elem])\n",
    "    #return new_vals\n",
    "    for elem in data.values.flatten():\n",
    "        new_vals.append(etyquete_dict[elem])\n",
    "    return new_vals"
   ],
   "id": "369ae671c20678c6",
   "outputs": [],
   "execution_count": 8
  },
  {
   "metadata": {
    "ExecuteTime": {
     "end_time": "2025-01-10T18:14:51.617786Z",
     "start_time": "2025-01-10T18:14:51.605068Z"
    }
   },
   "cell_type": "code",
   "source": [
    "print(df['Powietrze'])\n",
    "etiquete_dict={'Rzadko':1,'Kilka razy w tygodniu':4,'Codziennie':7}\n",
    "df['Powietrze']=ordered_encoding(df['Powietrze'], etiquete_dict)\n",
    "print(df['Powietrze'])"
   ],
   "id": "50e3c51e162a9b96",
   "outputs": [
    {
     "name": "stdout",
     "output_type": "stream",
     "text": [
      "0                Codziennie\n",
      "1                Codziennie\n",
      "2                Codziennie\n",
      "3     Kilka razy w tygodniu\n",
      "4                Codziennie\n",
      "5     Kilka razy w tygodniu\n",
      "6                Codziennie\n",
      "7     Kilka razy w tygodniu\n",
      "8     Kilka razy w tygodniu\n",
      "9                Codziennie\n",
      "10               Codziennie\n",
      "11                   Rzadko\n",
      "12               Codziennie\n",
      "13               Codziennie\n",
      "14    Kilka razy w tygodniu\n",
      "15    Kilka razy w tygodniu\n",
      "16               Codziennie\n",
      "17               Codziennie\n",
      "18    Kilka razy w tygodniu\n",
      "19               Codziennie\n",
      "20               Codziennie\n",
      "21    Kilka razy w tygodniu\n",
      "22    Kilka razy w tygodniu\n",
      "23               Codziennie\n",
      "24    Kilka razy w tygodniu\n",
      "25               Codziennie\n",
      "26    Kilka razy w tygodniu\n",
      "27    Kilka razy w tygodniu\n",
      "28    Kilka razy w tygodniu\n",
      "Name: Powietrze, dtype: object\n",
      "0     7\n",
      "1     7\n",
      "2     7\n",
      "3     4\n",
      "4     7\n",
      "5     4\n",
      "6     7\n",
      "7     4\n",
      "8     4\n",
      "9     7\n",
      "10    7\n",
      "11    1\n",
      "12    7\n",
      "13    7\n",
      "14    4\n",
      "15    4\n",
      "16    7\n",
      "17    7\n",
      "18    4\n",
      "19    7\n",
      "20    7\n",
      "21    4\n",
      "22    4\n",
      "23    7\n",
      "24    4\n",
      "25    7\n",
      "26    4\n",
      "27    4\n",
      "28    4\n",
      "Name: Powietrze, dtype: int64\n"
     ]
    }
   ],
   "execution_count": 9
  },
  {
   "metadata": {
    "ExecuteTime": {
     "end_time": "2025-01-10T18:15:18.471742Z",
     "start_time": "2025-01-10T18:15:18.459533Z"
    }
   },
   "cell_type": "code",
   "source": [
    "print(df['Media_k'].value_counts())\n",
    "df['Media_k']=ordered_encoding(df['Media_k'],etiquete_dict)\n",
    "print(df['Media_k'].value_counts())"
   ],
   "id": "22ee6c4a3dd4eefb",
   "outputs": [
    {
     "name": "stdout",
     "output_type": "stream",
     "text": [
      "Media_k\n",
      "Codziennie               20\n",
      "Kilka razy w tygodniu     6\n",
      "Rzadko                    3\n",
      "Name: count, dtype: int64\n",
      "Media_k\n",
      "7    20\n",
      "4     6\n",
      "1     3\n",
      "Name: count, dtype: int64\n"
     ]
    }
   ],
   "execution_count": 10
  },
  {
   "metadata": {
    "ExecuteTime": {
     "end_time": "2025-01-10T18:19:34.217941Z",
     "start_time": "2025-01-10T18:19:34.152637Z"
    }
   },
   "cell_type": "code",
   "source": [
    "etiquete_dict={'Rzadko':0,'Raz w tygodniu':1,'Kilka razy w tygodniu':4,'Codziennie':7}\n",
    "\n",
    "print(df['gry_czas'].value_counts())\n",
    "df['gry_czas']=ordered_encoding(df['gry_czas'],etiquete_dict)\n",
    "print(df['gry_czas'].value_counts())"
   ],
   "id": "b07b961582741013",
   "outputs": [
    {
     "name": "stdout",
     "output_type": "stream",
     "text": [
      "gry_czas\n",
      "0    12\n",
      "4     9\n",
      "7     5\n",
      "1     3\n",
      "Name: count, dtype: int64\n"
     ]
    },
    {
     "ename": "KeyError",
     "evalue": "np.int64(1)",
     "output_type": "error",
     "traceback": [
      "\u001B[0;31m---------------------------------------------------------------------------\u001B[0m",
      "\u001B[0;31mKeyError\u001B[0m                                  Traceback (most recent call last)",
      "Cell \u001B[0;32mIn[12], line 4\u001B[0m\n\u001B[1;32m      1\u001B[0m etiquete_dict\u001B[38;5;241m=\u001B[39m{\u001B[38;5;124m'\u001B[39m\u001B[38;5;124mRzadko\u001B[39m\u001B[38;5;124m'\u001B[39m:\u001B[38;5;241m0\u001B[39m,\u001B[38;5;124m'\u001B[39m\u001B[38;5;124mRaz w tygodniu\u001B[39m\u001B[38;5;124m'\u001B[39m:\u001B[38;5;241m1\u001B[39m,\u001B[38;5;124m'\u001B[39m\u001B[38;5;124mKilka razy w tygodniu\u001B[39m\u001B[38;5;124m'\u001B[39m:\u001B[38;5;241m4\u001B[39m,\u001B[38;5;124m'\u001B[39m\u001B[38;5;124mCodziennie\u001B[39m\u001B[38;5;124m'\u001B[39m:\u001B[38;5;241m7\u001B[39m}\n\u001B[1;32m      3\u001B[0m \u001B[38;5;28mprint\u001B[39m(df[\u001B[38;5;124m'\u001B[39m\u001B[38;5;124mgry_czas\u001B[39m\u001B[38;5;124m'\u001B[39m]\u001B[38;5;241m.\u001B[39mvalue_counts())\n\u001B[0;32m----> 4\u001B[0m df[\u001B[38;5;124m'\u001B[39m\u001B[38;5;124mgry_czas\u001B[39m\u001B[38;5;124m'\u001B[39m]\u001B[38;5;241m=\u001B[39m\u001B[43mordered_encoding\u001B[49m\u001B[43m(\u001B[49m\u001B[43mdf\u001B[49m\u001B[43m[\u001B[49m\u001B[38;5;124;43m'\u001B[39;49m\u001B[38;5;124;43mgry_czas\u001B[39;49m\u001B[38;5;124;43m'\u001B[39;49m\u001B[43m]\u001B[49m\u001B[43m,\u001B[49m\u001B[43metiquete_dict\u001B[49m\u001B[43m)\u001B[49m\n\u001B[1;32m      5\u001B[0m \u001B[38;5;28mprint\u001B[39m(df[\u001B[38;5;124m'\u001B[39m\u001B[38;5;124mgry_czas\u001B[39m\u001B[38;5;124m'\u001B[39m]\u001B[38;5;241m.\u001B[39mvalue_counts())\n",
      "Cell \u001B[0;32mIn[8], line 17\u001B[0m, in \u001B[0;36mordered_encoding\u001B[0;34m(data, etyquete_dict)\u001B[0m\n\u001B[1;32m      9\u001B[0m \u001B[38;5;66;03m#for idx,elem in enumerate(order):\u001B[39;00m\n\u001B[1;32m     10\u001B[0m  \u001B[38;5;66;03m#   label_dict[elem]=idx\u001B[39;00m\n\u001B[1;32m     11\u001B[0m \u001B[38;5;66;03m#print(label_dict)\u001B[39;00m\n\u001B[0;32m   (...)\u001B[0m\n\u001B[1;32m     14\u001B[0m  \u001B[38;5;66;03m#   new_vals.append(label_dict[elem])\u001B[39;00m\n\u001B[1;32m     15\u001B[0m \u001B[38;5;66;03m#return new_vals\u001B[39;00m\n\u001B[1;32m     16\u001B[0m \u001B[38;5;28;01mfor\u001B[39;00m elem \u001B[38;5;129;01min\u001B[39;00m data\u001B[38;5;241m.\u001B[39mvalues\u001B[38;5;241m.\u001B[39mflatten():\n\u001B[0;32m---> 17\u001B[0m     new_vals\u001B[38;5;241m.\u001B[39mappend(\u001B[43metyquete_dict\u001B[49m\u001B[43m[\u001B[49m\u001B[43melem\u001B[49m\u001B[43m]\u001B[49m)\n\u001B[1;32m     18\u001B[0m \u001B[38;5;28;01mreturn\u001B[39;00m new_vals\n",
      "\u001B[0;31mKeyError\u001B[0m: np.int64(1)"
     ]
    }
   ],
   "execution_count": 12
  },
  {
   "metadata": {
    "ExecuteTime": {
     "end_time": "2025-01-10T18:22:24.936056Z",
     "start_time": "2025-01-10T18:22:24.919620Z"
    }
   },
   "cell_type": "code",
   "source": "print(df.columns)",
   "id": "9827878607e35b5d",
   "outputs": [
    {
     "name": "stdout",
     "output_type": "stream",
     "text": [
      "Index(['Moda', 'Muzyka', 'Film', 'Sport_u', 'Sport_o', 'Komputer', 'Samochod',\n",
      "       'Literatura', 'Smak', 'Wolny_czas', 'Miasto', 'Kraj', 'Wzrost', 'Włosy',\n",
      "       'Okulary', 'Przedmiot', 'Gra', 'Wf', 'Sniadanie', 'Kino_teatr', 'Pora',\n",
      "       'Ksiazki', 'Gotowanie', 'Zajecie', 'Media_u', 'Technologie',\n",
      "       'Powietrze', 'Fryzura', 'Media_k', 'Paznokcie', 'Wakacje',\n",
      "       'Rod_prz_sam', 'gry_czas', 'Jedzenie', 'Wartosc', 'Napoj', 'Dom',\n",
      "       'Zwierzak', 'Plec'],\n",
      "      dtype='object')\n"
     ]
    }
   ],
   "execution_count": 16
  },
  {
   "metadata": {
    "ExecuteTime": {
     "end_time": "2025-01-10T18:19:40.436677Z",
     "start_time": "2025-01-10T18:19:40.427758Z"
    }
   },
   "cell_type": "code",
   "source": [
    "encoder=LabelEncoder()\n",
    "df['Moda']=encoder.fit_transform(df['Moda'])\n",
    "print(df['Moda'].value_counts())\n"
   ],
   "id": "ddd8f05dc22803dc",
   "outputs": [
    {
     "name": "stdout",
     "output_type": "stream",
     "text": [
      "Moda\n",
      "0    13\n",
      "2     8\n",
      "1     8\n",
      "Name: count, dtype: int64\n"
     ]
    }
   ],
   "execution_count": 13
  },
  {
   "metadata": {
    "ExecuteTime": {
     "end_time": "2025-01-10T18:20:46.152547Z",
     "start_time": "2025-01-10T18:20:46.132757Z"
    }
   },
   "cell_type": "code",
   "source": "print(encoder.classes_)",
   "id": "b243f749812ef826",
   "outputs": [
    {
     "name": "stdout",
     "output_type": "stream",
     "text": [
      "['Casual' 'Elegancki' 'nie dbam o mode']\n"
     ]
    }
   ],
   "execution_count": 14
  },
  {
   "metadata": {
    "ExecuteTime": {
     "end_time": "2025-01-10T18:21:50.582178Z",
     "start_time": "2025-01-10T18:21:50.568096Z"
    }
   },
   "cell_type": "code",
   "source": [
    "def stoi(string:str)->int:\n",
    "    new_str=''\n",
    "    for character in string:\n",
    "        if character.isnumeric():\n",
    "            new_str+=character\n",
    "        else: \n",
    "            break\n",
    "    return int(new_str)\n",
    "df['Wf']=df['Wf'].apply(stoi)\n",
    "print(df['Wf'])"
   ],
   "id": "4935b4d4763103cd",
   "outputs": [
    {
     "name": "stdout",
     "output_type": "stream",
     "text": [
      "0     2\n",
      "1     0\n",
      "2     1\n",
      "3     2\n",
      "4     1\n",
      "5     2\n",
      "6     1\n",
      "7     1\n",
      "8     1\n",
      "9     2\n",
      "10    2\n",
      "11    0\n",
      "12    1\n",
      "13    1\n",
      "14    1\n",
      "15    1\n",
      "16    1\n",
      "17    1\n",
      "18    1\n",
      "19    1\n",
      "20    0\n",
      "21    0\n",
      "22    0\n",
      "23    2\n",
      "24    1\n",
      "25    1\n",
      "26    1\n",
      "27    1\n",
      "28    2\n",
      "Name: Wf, dtype: int64\n"
     ]
    }
   ],
   "execution_count": 15
  },
  {
   "metadata": {
    "ExecuteTime": {
     "end_time": "2025-01-10T18:22:39.725472Z",
     "start_time": "2025-01-10T18:22:39.633482Z"
    }
   },
   "cell_type": "code",
   "source": [
    "category_columns=df.select_dtypes(include='object').columns\n",
    "en_df=pd.get_dummies(df,columns=category_columns,prefix=[col+'_' for col in category_columns])\n",
    "print(en_df['Moda'])\n"
   ],
   "id": "a965cfab25e73dfa",
   "outputs": [
    {
     "name": "stdout",
     "output_type": "stream",
     "text": [
      "0     0\n",
      "1     2\n",
      "2     0\n",
      "3     0\n",
      "4     0\n",
      "5     2\n",
      "6     2\n",
      "7     2\n",
      "8     0\n",
      "9     0\n",
      "10    1\n",
      "11    1\n",
      "12    0\n",
      "13    0\n",
      "14    0\n",
      "15    1\n",
      "16    1\n",
      "17    1\n",
      "18    1\n",
      "19    1\n",
      "20    2\n",
      "21    2\n",
      "22    2\n",
      "23    1\n",
      "24    2\n",
      "25    0\n",
      "26    0\n",
      "27    0\n",
      "28    0\n",
      "Name: Moda, dtype: int64\n"
     ]
    }
   ],
   "execution_count": 17
  },
  {
   "metadata": {
    "ExecuteTime": {
     "end_time": "2025-01-10T18:23:11.063714Z",
     "start_time": "2025-01-10T18:23:11.026120Z"
    }
   },
   "cell_type": "code",
   "source": "en_df.to_csv('./res/df_inne_encoded_logically_by_lukasiak.csv',index=False)",
   "id": "c9dd043dd7bd947a",
   "outputs": [],
   "execution_count": 18
  },
  {
   "metadata": {},
   "cell_type": "code",
   "outputs": [],
   "execution_count": null,
   "source": "",
   "id": "ad612960b4b840f6"
  }
 ],
 "metadata": {
  "kernelspec": {
   "display_name": "Python ML",
   "language": "python",
   "name": "pythonproject"
  },
  "language_info": {
   "codemirror_mode": {
    "name": "ipython",
    "version": 2
   },
   "file_extension": ".py",
   "mimetype": "text/x-python",
   "name": "python",
   "nbconvert_exporter": "python",
   "pygments_lexer": "ipython2",
   "version": "2.7.6"
  }
 },
 "nbformat": 4,
 "nbformat_minor": 5
}
