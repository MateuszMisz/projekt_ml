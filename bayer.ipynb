{
 "cells": [
  {
   "cell_type": "code",
   "id": "initial_id",
   "metadata": {
    "collapsed": true,
    "ExecuteTime": {
     "end_time": "2025-01-12T14:36:53.545168Z",
     "start_time": "2025-01-12T14:36:53.525869Z"
    }
   },
   "source": [
    "from sklearn.metrics import f1_score\n",
    "from sklearn.model_selection import train_test_split,GridSearchCV\n",
    "from sklearn.preprocessing import MinMaxScaler\n",
    "from scipy.stats import chi2_contingency\n",
    "import pandas as pd\n",
    "import numpy as np\n",
    "from itertools import combinations\n",
    "from sklearn.naive_bayes import MultinomialNB\n"
   ],
   "outputs": [],
   "execution_count": 49
  },
  {
   "metadata": {
    "ExecuteTime": {
     "end_time": "2025-01-12T14:09:20.692547Z",
     "start_time": "2025-01-12T14:09:20.681913Z"
    }
   },
   "cell_type": "code",
   "source": [
    "df=pd.read_csv('./res/df_inne_choosen')\n",
    "X=df.drop('Moda',axis=1)\n",
    "y=df['Moda']\n",
    "scaler=MinMaxScaler()\n",
    "X_scaled=scaler.fit_transform(X)\n",
    "X=pd.DataFrame(X_scaled,columns=X.columns)\n"
   ],
   "id": "dc042b571f05e69c",
   "outputs": [],
   "execution_count": 9
  },
  {
   "metadata": {
    "ExecuteTime": {
     "end_time": "2025-01-12T14:46:47.010178Z",
     "start_time": "2025-01-12T14:46:46.989263Z"
    }
   },
   "cell_type": "code",
   "source": "print(X.columns)",
   "id": "912f8a2d8015ed90",
   "outputs": [
    {
     "name": "stdout",
     "output_type": "stream",
     "text": [
      "Index(['Wzrost', 'gry_czas', 'Zajecie__sluchanie muzyki', 'Wakacje__Praca',\n",
      "       'Rod_prz_sam__Przyjaciele', 'Napoj__soki', 'Napoj__woda'],\n",
      "      dtype='object')\n"
     ]
    }
   ],
   "execution_count": 61
  },
  {
   "metadata": {},
   "cell_type": "code",
   "outputs": [],
   "execution_count": null,
   "source": [
    "comb=list(combinations(X.columns,2))\n",
    "pvals={}\n",
    "for col1,col2 in comb:\n",
    "    crosstab=pd.crosstab(X[col1],X[col2])\n",
    "    chi2,p,_,_=chi2_contingency(crosstab)\n",
    "    pvals[(col1,col2)]=p"
   ],
   "id": "76f01a84f301c0c4"
  },
  {
   "metadata": {
    "ExecuteTime": {
     "end_time": "2025-01-12T13:54:36.207047Z",
     "start_time": "2025-01-12T13:54:36.202281Z"
    }
   },
   "cell_type": "code",
   "source": [
    "for key,value in pvals.items():\n",
    "    if value<0.05: print(key,value)"
   ],
   "id": "83947a47e5b707ab",
   "outputs": [
    {
     "name": "stdout",
     "output_type": "stream",
     "text": [
      "('Napoj__soki', 'Napoj__woda') 0.027766816664195774\n"
     ]
    }
   ],
   "execution_count": 5
  },
  {
   "metadata": {
    "ExecuteTime": {
     "end_time": "2025-01-12T13:58:37.864482Z",
     "start_time": "2025-01-12T13:58:37.852382Z"
    }
   },
   "cell_type": "code",
   "source": [
    "contingency_table=pd.crosstab(X['Napoj__soki'],X['Napoj__woda'])\n",
    "chi2,p,_,_=chi2_contingency(contingency_table)\n",
    "n = contingency_table.sum().sum()\n",
    "phi2 = chi2 / n \n",
    "rcorr = min(contingency_table.shape) - 1\n",
    "cramers_v = (phi2 / rcorr) ** 0.5\n",
    "print(cramers_v)"
   ],
   "id": "3cfcfa67242129cb",
   "outputs": [
    {
     "name": "stdout",
     "output_type": "stream",
     "text": [
      "0.40863470634825333\n"
     ]
    }
   ],
   "execution_count": 6
  },
  {
   "metadata": {
    "ExecuteTime": {
     "end_time": "2025-01-12T14:47:28.987738Z",
     "start_time": "2025-01-12T14:47:28.964976Z"
    }
   },
   "cell_type": "code",
   "source": "X.drop('Napoj__soki',axis=1,inplace=True)",
   "id": "bd048793c0333967",
   "outputs": [],
   "execution_count": 62
  },
  {
   "metadata": {
    "ExecuteTime": {
     "end_time": "2025-01-12T14:51:38.779669Z",
     "start_time": "2025-01-12T14:51:38.771079Z"
    }
   },
   "cell_type": "code",
   "source": "X_train, X_test, y_train, y_test = train_test_split(X, y, test_size=0.3, random_state=4)",
   "id": "90104fd10a6109ef",
   "outputs": [],
   "execution_count": 70
  },
  {
   "metadata": {
    "ExecuteTime": {
     "end_time": "2025-01-12T14:47:31.960592Z",
     "start_time": "2025-01-12T14:47:31.931521Z"
    }
   },
   "cell_type": "code",
   "source": [
    "param_dict={\n",
    "    'alpha':[float(x) for x in [*list(np.linspace(0,1,50)),*list(np.linspace(1,10,50)),1]],\n",
    "    'fit_prior':[True, False],\n",
    "    'class_prior':[None],\n",
    "    'force_alpha':[True,False]\n",
    "}"
   ],
   "id": "e811afa9eb856f4c",
   "outputs": [],
   "execution_count": 64
  },
  {
   "metadata": {
    "ExecuteTime": {
     "end_time": "2025-01-12T14:47:41.017176Z",
     "start_time": "2025-01-12T14:47:34.780040Z"
    }
   },
   "cell_type": "code",
   "source": [
    "searcher=GridSearchCV(estimator=MultinomialNB(),param_grid=param_dict, cv=5, scoring='f1_weighted', n_jobs=-1)\n",
    "searcher.fit(X, y)\n",
    "print('parametr: ',searcher.best_params_)\n",
    "print('najlepszy f1: ',searcher.best_score_)"
   ],
   "id": "4a20a2dd4ce9d2cf",
   "outputs": [
    {
     "name": "stderr",
     "output_type": "stream",
     "text": [
      "/home/mysza/pythonProject/.venv/lib/python3.10/site-packages/sklearn/naive_bayes.py:897: RuntimeWarning: divide by zero encountered in log\n",
      "  self.feature_log_prob_ = np.log(smoothed_fc) - np.log(\n",
      "/home/mysza/pythonProject/.venv/lib/python3.10/site-packages/sklearn/utils/extmath.py:203: RuntimeWarning: invalid value encountered in matmul\n",
      "  ret = a @ b\n",
      "/home/mysza/pythonProject/.venv/lib/python3.10/site-packages/sklearn/naive_bayes.py:897: RuntimeWarning: divide by zero encountered in log\n",
      "  self.feature_log_prob_ = np.log(smoothed_fc) - np.log(\n",
      "/home/mysza/pythonProject/.venv/lib/python3.10/site-packages/sklearn/naive_bayes.py:897: RuntimeWarning: divide by zero encountered in log\n",
      "  self.feature_log_prob_ = np.log(smoothed_fc) - np.log(\n",
      "/home/mysza/pythonProject/.venv/lib/python3.10/site-packages/sklearn/naive_bayes.py:897: RuntimeWarning: divide by zero encountered in log\n",
      "  self.feature_log_prob_ = np.log(smoothed_fc) - np.log(\n",
      "/home/mysza/pythonProject/.venv/lib/python3.10/site-packages/sklearn/utils/extmath.py:203: RuntimeWarning: invalid value encountered in matmul\n",
      "  ret = a @ b\n",
      "/home/mysza/pythonProject/.venv/lib/python3.10/site-packages/sklearn/utils/extmath.py:203: RuntimeWarning: invalid value encountered in matmul\n",
      "  ret = a @ b\n",
      "/home/mysza/pythonProject/.venv/lib/python3.10/site-packages/sklearn/naive_bayes.py:623: UserWarning: alpha too small will result in numeric errors, setting alpha = 1.0e-10. Use `force_alpha=True` to keep alpha unchanged.\n",
      "  warnings.warn(\n",
      "/home/mysza/pythonProject/.venv/lib/python3.10/site-packages/sklearn/naive_bayes.py:897: RuntimeWarning: divide by zero encountered in log\n",
      "  self.feature_log_prob_ = np.log(smoothed_fc) - np.log(\n",
      "/home/mysza/pythonProject/.venv/lib/python3.10/site-packages/sklearn/naive_bayes.py:623: UserWarning: alpha too small will result in numeric errors, setting alpha = 1.0e-10. Use `force_alpha=True` to keep alpha unchanged.\n",
      "  warnings.warn(\n",
      "/home/mysza/pythonProject/.venv/lib/python3.10/site-packages/sklearn/naive_bayes.py:623: UserWarning: alpha too small will result in numeric errors, setting alpha = 1.0e-10. Use `force_alpha=True` to keep alpha unchanged.\n",
      "  warnings.warn(\n",
      "/home/mysza/pythonProject/.venv/lib/python3.10/site-packages/sklearn/utils/extmath.py:203: RuntimeWarning: invalid value encountered in matmul\n",
      "  ret = a @ b\n",
      "/home/mysza/pythonProject/.venv/lib/python3.10/site-packages/sklearn/utils/extmath.py:203: RuntimeWarning: invalid value encountered in matmul\n",
      "  ret = a @ b\n",
      "/home/mysza/pythonProject/.venv/lib/python3.10/site-packages/sklearn/naive_bayes.py:623: UserWarning: alpha too small will result in numeric errors, setting alpha = 1.0e-10. Use `force_alpha=True` to keep alpha unchanged.\n",
      "  warnings.warn(\n",
      "/home/mysza/pythonProject/.venv/lib/python3.10/site-packages/sklearn/naive_bayes.py:623: UserWarning: alpha too small will result in numeric errors, setting alpha = 1.0e-10. Use `force_alpha=True` to keep alpha unchanged.\n",
      "  warnings.warn(\n",
      "/home/mysza/pythonProject/.venv/lib/python3.10/site-packages/sklearn/naive_bayes.py:897: RuntimeWarning: divide by zero encountered in log\n",
      "  self.feature_log_prob_ = np.log(smoothed_fc) - np.log(\n",
      "/home/mysza/pythonProject/.venv/lib/python3.10/site-packages/sklearn/utils/extmath.py:203: RuntimeWarning: invalid value encountered in matmul\n",
      "  ret = a @ b\n",
      "/home/mysza/pythonProject/.venv/lib/python3.10/site-packages/sklearn/naive_bayes.py:897: RuntimeWarning: divide by zero encountered in log\n",
      "  self.feature_log_prob_ = np.log(smoothed_fc) - np.log(\n",
      "/home/mysza/pythonProject/.venv/lib/python3.10/site-packages/sklearn/naive_bayes.py:897: RuntimeWarning: divide by zero encountered in log\n",
      "  self.feature_log_prob_ = np.log(smoothed_fc) - np.log(\n",
      "/home/mysza/pythonProject/.venv/lib/python3.10/site-packages/sklearn/utils/extmath.py:203: RuntimeWarning: invalid value encountered in matmul\n",
      "  ret = a @ b\n",
      "/home/mysza/pythonProject/.venv/lib/python3.10/site-packages/sklearn/utils/extmath.py:203: RuntimeWarning: invalid value encountered in matmul\n",
      "  ret = a @ b\n",
      "/home/mysza/pythonProject/.venv/lib/python3.10/site-packages/sklearn/naive_bayes.py:897: RuntimeWarning: divide by zero encountered in log\n",
      "  self.feature_log_prob_ = np.log(smoothed_fc) - np.log(\n",
      "/home/mysza/pythonProject/.venv/lib/python3.10/site-packages/sklearn/utils/extmath.py:203: RuntimeWarning: invalid value encountered in matmul\n",
      "  ret = a @ b\n",
      "/home/mysza/pythonProject/.venv/lib/python3.10/site-packages/sklearn/naive_bayes.py:623: UserWarning: alpha too small will result in numeric errors, setting alpha = 1.0e-10. Use `force_alpha=True` to keep alpha unchanged.\n",
      "  warnings.warn(\n",
      "/home/mysza/pythonProject/.venv/lib/python3.10/site-packages/sklearn/naive_bayes.py:897: RuntimeWarning: divide by zero encountered in log\n",
      "  self.feature_log_prob_ = np.log(smoothed_fc) - np.log(\n",
      "/home/mysza/pythonProject/.venv/lib/python3.10/site-packages/sklearn/naive_bayes.py:623: UserWarning: alpha too small will result in numeric errors, setting alpha = 1.0e-10. Use `force_alpha=True` to keep alpha unchanged.\n",
      "  warnings.warn(\n",
      "/home/mysza/pythonProject/.venv/lib/python3.10/site-packages/sklearn/utils/extmath.py:203: RuntimeWarning: invalid value encountered in matmul\n",
      "  ret = a @ b\n",
      "/home/mysza/pythonProject/.venv/lib/python3.10/site-packages/sklearn/naive_bayes.py:623: UserWarning: alpha too small will result in numeric errors, setting alpha = 1.0e-10. Use `force_alpha=True` to keep alpha unchanged.\n",
      "  warnings.warn(\n",
      "/home/mysza/pythonProject/.venv/lib/python3.10/site-packages/sklearn/naive_bayes.py:623: UserWarning: alpha too small will result in numeric errors, setting alpha = 1.0e-10. Use `force_alpha=True` to keep alpha unchanged.\n",
      "  warnings.warn(\n",
      "/home/mysza/pythonProject/.venv/lib/python3.10/site-packages/sklearn/naive_bayes.py:623: UserWarning: alpha too small will result in numeric errors, setting alpha = 1.0e-10. Use `force_alpha=True` to keep alpha unchanged.\n",
      "  warnings.warn(\n"
     ]
    },
    {
     "name": "stdout",
     "output_type": "stream",
     "text": [
      "parametr:  {'alpha': 0.3469387755102041, 'class_prior': None, 'fit_prior': False, 'force_alpha': True}\n",
      "najlepszy f1:  0.715111111111111\n"
     ]
    }
   ],
   "execution_count": 65
  },
  {
   "metadata": {
    "ExecuteTime": {
     "end_time": "2025-01-12T14:51:18.442448Z",
     "start_time": "2025-01-12T14:51:18.382611Z"
    }
   },
   "cell_type": "code",
   "source": [
    "nb = MultinomialNB()\n",
    "nb.fit(X_train, y_train)\n",
    "y_pred = nb.predict(X_test)\n",
    "print(f1_score(y_test, y_pred, average='weighted'))"
   ],
   "id": "7bd4d154b93eae66",
   "outputs": [
    {
     "name": "stdout",
     "output_type": "stream",
     "text": [
      "0.4202020202020202\n"
     ]
    }
   ],
   "execution_count": 67
  },
  {
   "metadata": {
    "ExecuteTime": {
     "end_time": "2025-01-12T14:27:21.165195Z",
     "start_time": "2025-01-12T14:27:21.146317Z"
    }
   },
   "cell_type": "code",
   "source": "print(param_dict['var_smoothing'])",
   "id": "4df45988d19c3e78",
   "outputs": [
    {
     "name": "stdout",
     "output_type": "stream",
     "text": [
      "[1e-50, 0.010101010101010102, 0.020202020202020204, 0.030303030303030304, 0.04040404040404041, 0.05050505050505051, 0.06060606060606061, 0.07070707070707072, 0.08080808080808081, 0.09090909090909091, 0.10101010101010102, 0.11111111111111112, 0.12121212121212122, 0.13131313131313133, 0.14141414141414144, 0.15151515151515152, 0.16161616161616163, 0.17171717171717174, 0.18181818181818182, 0.19191919191919193, 0.20202020202020204, 0.21212121212121213, 0.22222222222222224, 0.23232323232323235, 0.24242424242424243, 0.25252525252525254, 0.26262626262626265, 0.27272727272727276, 0.2828282828282829, 0.29292929292929293, 0.30303030303030304, 0.31313131313131315, 0.32323232323232326, 0.33333333333333337, 0.3434343434343435, 0.3535353535353536, 0.36363636363636365, 0.37373737373737376, 0.38383838383838387, 0.393939393939394, 0.4040404040404041, 0.4141414141414142, 0.42424242424242425, 0.43434343434343436, 0.4444444444444445, 0.4545454545454546, 0.4646464646464647, 0.4747474747474748, 0.48484848484848486, 0.494949494949495, 0.5050505050505051, 0.5151515151515152, 0.5252525252525253, 0.5353535353535354, 0.5454545454545455, 0.5555555555555556, 0.5656565656565657, 0.5757575757575758, 0.5858585858585859, 0.595959595959596, 0.6060606060606061, 0.6161616161616162, 0.6262626262626263, 0.6363636363636365, 0.6464646464646465, 0.6565656565656566, 0.6666666666666667, 0.6767676767676768, 0.686868686868687, 0.696969696969697, 0.7070707070707072, 0.7171717171717172, 0.7272727272727273, 0.7373737373737375, 0.7474747474747475, 0.7575757575757577, 0.7676767676767677, 0.7777777777777778, 0.787878787878788, 0.797979797979798, 0.8080808080808082, 0.8181818181818182, 0.8282828282828284, 0.8383838383838385, 0.8484848484848485, 0.8585858585858587, 0.8686868686868687, 0.8787878787878789, 0.888888888888889, 0.8989898989898991, 0.9090909090909092, 0.9191919191919192, 0.9292929292929294, 0.9393939393939394, 0.9494949494949496, 0.9595959595959597, 0.9696969696969697, 0.9797979797979799, 0.98989898989899, 1.0]\n"
     ]
    }
   ],
   "execution_count": 48
  },
  {
   "metadata": {
    "ExecuteTime": {
     "end_time": "2025-01-12T14:52:37.412813Z",
     "start_time": "2025-01-12T14:52:37.388494Z"
    }
   },
   "cell_type": "code",
   "source": [
    "X_train, X_test, y_train, y_test = train_test_split(X, y, test_size=0.2, random_state=97)\n",
    "\n",
    "mnb=MultinomialNB(**searcher.best_params_)\n",
    "mnb.fit(X_train, y_train)\n",
    "y_pred = mnb.predict(X_test)\n",
    "print(f1_score(y_test, y_pred, average='weighted'))"
   ],
   "id": "d09b8dc79ebaa8e6",
   "outputs": [
    {
     "name": "stdout",
     "output_type": "stream",
     "text": [
      "0.8333333333333334\n"
     ]
    }
   ],
   "execution_count": 85
  },
  {
   "metadata": {
    "ExecuteTime": {
     "end_time": "2025-01-12T14:52:57.073579Z",
     "start_time": "2025-01-12T14:52:57.058260Z"
    }
   },
   "cell_type": "code",
   "source": [
    "from joblib import dump\n",
    "\n",
    "dump(mnb, './res/MultinomialNB.joblib')"
   ],
   "id": "1d22b029351ad8cd",
   "outputs": [
    {
     "data": {
      "text/plain": [
       "['./res/MultinomialNB.joblib']"
      ]
     },
     "execution_count": 86,
     "metadata": {},
     "output_type": "execute_result"
    }
   ],
   "execution_count": 86
  },
  {
   "metadata": {
    "ExecuteTime": {
     "end_time": "2025-01-12T14:54:04.251611Z",
     "start_time": "2025-01-12T14:54:04.193493Z"
    }
   },
   "cell_type": "code",
   "source": [
    "final_mnb=MultinomialNB(**searcher.best_params_)\n",
    "final_mnb.fit(X, y)\n",
    "dump(final_mnb,'./res/final_mnb.joblib')"
   ],
   "id": "1f5e8fcf4e970d92",
   "outputs": [
    {
     "data": {
      "text/plain": [
       "['./res/final_mnb.joblib']"
      ]
     },
     "execution_count": 88,
     "metadata": {},
     "output_type": "execute_result"
    }
   ],
   "execution_count": 88
  }
 ],
 "metadata": {
  "kernelspec": {
   "display_name": "Python ML",
   "language": "python",
   "name": "pythonproject"
  },
  "language_info": {
   "codemirror_mode": {
    "name": "ipython",
    "version": 2
   },
   "file_extension": ".py",
   "mimetype": "text/x-python",
   "name": "python",
   "nbconvert_exporter": "python",
   "pygments_lexer": "ipython2",
   "version": "2.7.6"
  }
 },
 "nbformat": 4,
 "nbformat_minor": 5
}
