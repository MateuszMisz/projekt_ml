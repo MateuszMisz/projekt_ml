{
 "cells": [
  {
   "cell_type": "code",
   "id": "initial_id",
   "metadata": {
    "collapsed": true,
    "ExecuteTime": {
     "end_time": "2025-01-11T13:37:47.524579Z",
     "start_time": "2025-01-11T13:37:47.507157Z"
    }
   },
   "source": [
    "from sklearn.linear_model import LassoCV,Lasso\n",
    "import pandas as pd\n",
    "import numpy as np\n",
    "from sklearn.preprocessing import MinMaxScaler\n",
    "from sklearn.model_selection import train_test_split\n",
    "from sklearn.metrics import f1_score"
   ],
   "outputs": [],
   "execution_count": 8
  },
  {
   "metadata": {
    "ExecuteTime": {
     "end_time": "2025-01-11T13:37:47.871276Z",
     "start_time": "2025-01-11T13:37:47.792620Z"
    }
   },
   "cell_type": "code",
   "source": [
    "df=pd.read_csv('./res/df_inne_encoded_logically_by_lukasiak.csv')\n",
    "X=df.drop('Moda',axis=1)\n",
    "y=df['Moda']\n",
    "scaler=MinMaxScaler()\n",
    "X_scaled=pd.DataFrame(scaler.fit_transform(X),columns=X.columns)\n",
    "X=X_scaled\n",
    "print(X['Wzrost'].value_counts())\n",
    "X_train, X_test, y_train, y_test = train_test_split(X, y, test_size=0.2, random_state=0)"
   ],
   "id": "4079aca1042a6eac",
   "outputs": [
    {
     "name": "stdout",
     "output_type": "stream",
     "text": [
      "Wzrost\n",
      "0.623377    4\n",
      "0.207792    3\n",
      "0.363636    3\n",
      "0.701299    2\n",
      "0.259740    2\n",
      "1.000000    1\n",
      "0.389610    1\n",
      "0.675325    1\n",
      "0.285714    1\n",
      "0.753247    1\n",
      "0.155844    1\n",
      "0.000000    1\n",
      "0.337662    1\n",
      "0.571429    1\n",
      "0.441558    1\n",
      "0.493506    1\n",
      "0.415584    1\n",
      "0.233766    1\n",
      "0.935065    1\n",
      "0.727273    1\n",
      "Name: count, dtype: int64\n"
     ]
    }
   ],
   "execution_count": 9
  },
  {
   "metadata": {
    "ExecuteTime": {
     "end_time": "2025-01-11T13:38:11.370926Z",
     "start_time": "2025-01-11T13:38:11.237265Z"
    }
   },
   "cell_type": "code",
   "source": [
    "lasso_cv=LassoCV(cv=5, random_state=5)\n",
    "lasso_cv.fit(X_train,y_train)\n",
    "best_alpha=lasso_cv.alpha_\n",
    "print(\"Najlepsze alpha:\", best_alpha)\n"
   ],
   "id": "3d9b5ad156211947",
   "outputs": [
    {
     "name": "stdout",
     "output_type": "stream",
     "text": [
      "Najlepsze alpha: 0.20415879017013233\n",
      "Wybrane cechy przy optymalnym alpha: ['Zwierzak__kot']\n"
     ]
    }
   ],
   "execution_count": 13
  },
  {
   "metadata": {
    "ExecuteTime": {
     "end_time": "2025-01-11T13:56:53.771311Z",
     "start_time": "2025-01-11T13:56:53.727057Z"
    }
   },
   "cell_type": "code",
   "source": [
    "lasso_best = Lasso(alpha=0.06, random_state=42)\n",
    "lasso_best.fit(X_train, y_train)\n",
    "coefficients = lasso_best.coef_\n",
    "feature_names = np.array(X.columns)[selected_features]\n",
    "selected_coef=[]\n",
    "selected_features=[]\n",
    "for i in range(len(list(coefficients.flatten()))):\n",
    "    if(coefficients[i]>0):\n",
    "        print(X_train.columns[i],' : ',coefficients[i])\n",
    "        selected_features.append(X_train.columns[i])\n"
   ],
   "id": "1eb61724a97bafea",
   "outputs": [
    {
     "name": "stdout",
     "output_type": "stream",
     "text": [
      "Wolny_czas__spie  :  0.03432630941979567\n",
      "Sniadanie__nie  :  0.017623824894037958\n",
      "Zajecie__Czytanie  :  0.20570206048538725\n",
      "Paznokcie__nie  :  0.006535343368485287\n",
      "Wakacje__Praca  :  0.46777497852973865\n"
     ]
    }
   ],
   "execution_count": 44
  },
  {
   "metadata": {
    "ExecuteTime": {
     "end_time": "2025-01-11T13:58:45.335602Z",
     "start_time": "2025-01-11T13:58:45.324361Z"
    }
   },
   "cell_type": "code",
   "source": [
    "print(selected_features)\n",
    "selected_features_df=df[['Moda']+selected_features]\n",
    "print(selected_features_df.columns)\n",
    "selected_features_df.to_csv('./res/selected_features_lasso.csv',index=False)"
   ],
   "id": "aa3af80bd957d695",
   "outputs": [
    {
     "name": "stdout",
     "output_type": "stream",
     "text": [
      "['Wolny_czas__spie', 'Sniadanie__nie', 'Zajecie__Czytanie', 'Paznokcie__nie', 'Wakacje__Praca']\n",
      "Index(['Moda', 'Wolny_czas__spie', 'Sniadanie__nie', 'Zajecie__Czytanie',\n",
      "       'Paznokcie__nie', 'Wakacje__Praca'],\n",
      "      dtype='object')\n"
     ]
    }
   ],
   "execution_count": 48
  }
 ],
 "metadata": {
  "kernelspec": {
   "display_name": "Python ML",
   "language": "python",
   "name": "pythonproject"
  },
  "language_info": {
   "codemirror_mode": {
    "name": "ipython",
    "version": 2
   },
   "file_extension": ".py",
   "mimetype": "text/x-python",
   "name": "python",
   "nbconvert_exporter": "python",
   "pygments_lexer": "ipython2",
   "version": "2.7.6"
  }
 },
 "nbformat": 4,
 "nbformat_minor": 5
}
