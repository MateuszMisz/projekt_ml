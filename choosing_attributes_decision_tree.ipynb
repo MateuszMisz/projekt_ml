{
 "cells": [
  {
   "cell_type": "code",
   "id": "initial_id",
   "metadata": {
    "collapsed": true,
    "ExecuteTime": {
     "end_time": "2025-01-10T20:27:36.855668Z",
     "start_time": "2025-01-10T20:27:36.847270Z"
    }
   },
   "source": [
    "import numpy as np\n",
    "from sklearn.model_selection import train_test_split, cross_val_score\n",
    "from sklearn.ensemble import RandomForestClassifier\n",
    "from sklearn.tree import DecisionTreeClassifier\n",
    "from sklearn.feature_selection import RFE\n",
    "from sklearn.metrics import make_scorer, matthews_corrcoef,confusion_matrix,f1_score,accuracy_score\n",
    "from sklearn.datasets import make_classification\n",
    "from sklearn.preprocessing import LabelEncoder, OneHotEncoder\n",
    "import pandas as pd"
   ],
   "outputs": [],
   "execution_count": 33
  },
  {
   "metadata": {
    "ExecuteTime": {
     "end_time": "2025-01-10T20:27:37.378939Z",
     "start_time": "2025-01-10T20:27:37.350553Z"
    }
   },
   "cell_type": "code",
   "source": "df=pd.read_csv('./res/df_inne_encoded_logically_by_lukasiak.csv')",
   "id": "6a1c70a8bd19c90e",
   "outputs": [],
   "execution_count": 34
  },
  {
   "metadata": {
    "ExecuteTime": {
     "end_time": "2025-01-10T20:29:08.333624Z",
     "start_time": "2025-01-10T20:29:08.307780Z"
    }
   },
   "cell_type": "code",
   "source": [
    "tree=DecisionTreeClassifier(criterion='entropy')\n",
    "X=df.drop('Moda', axis=1)\n",
    "y=df['Moda']\n",
    "X_train, X_test, y_train, y_test = train_test_split(X, y, test_size=0.2, random_state=0)\n"
   ],
   "id": "128571b15f08d641",
   "outputs": [],
   "execution_count": 41
  },
  {
   "metadata": {
    "ExecuteTime": {
     "end_time": "2025-01-10T20:29:11.653978Z",
     "start_time": "2025-01-10T20:29:11.611007Z"
    }
   },
   "cell_type": "code",
   "source": [
    "tree.fit(X_train, y_train)\n",
    "y_predict=tree.predict(X_test)\n",
    "print(f1_score(y_test, y_predict, average='weighted'))"
   ],
   "id": "791edc7384dc77cc",
   "outputs": [
    {
     "name": "stdout",
     "output_type": "stream",
     "text": [
      "0.44047619047619047\n"
     ]
    }
   ],
   "execution_count": 42
  },
  {
   "metadata": {
    "ExecuteTime": {
     "end_time": "2025-01-10T20:29:11.773962Z",
     "start_time": "2025-01-10T20:29:11.666578Z"
    }
   },
   "cell_type": "code",
   "source": [
    "choosen_columns=[]\n",
    "for i in range(len(tree.feature_importances_)):\n",
    "    if tree.feature_importances_[i]>0: print(f'{X_train.columns[i]} : {tree.feature_importances_[i]}');choosen_columns.append(X_train.columns[i])\n",
    "print(choosen_columns)"
   ],
   "id": "3f81d8c3482614ec",
   "outputs": [
    {
     "name": "stdout",
     "output_type": "stream",
     "text": [
      "Muzyka__Rock : 0.06982973389514502\n",
      "Miasto__Poznan : 0.07725127710202781\n",
      "Zajecie__Sport : 0.1625852007764987\n",
      "Media_u__TikTok : 0.07725127710202781\n",
      "Paznokcie__nie : 0.13105992603868738\n",
      "Wakacje__Praca : 0.23652209190918502\n",
      "Wartosc__Kariera : 0.07725127710202781\n",
      "Napoj__woda : 0.16824921607440047\n",
      "['Muzyka__Rock', 'Miasto__Poznan', 'Zajecie__Sport', 'Media_u__TikTok', 'Paznokcie__nie', 'Wakacje__Praca', 'Wartosc__Kariera', 'Napoj__woda']\n"
     ]
    }
   ],
   "execution_count": 43
  },
  {
   "metadata": {
    "ExecuteTime": {
     "end_time": "2025-01-10T18:57:45.504548Z",
     "start_time": "2025-01-10T18:57:45.435113Z"
    }
   },
   "cell_type": "code",
   "source": "print(df.filter(like='Muzyka').value_counts())",
   "id": "b1a74612f805b869",
   "outputs": [
    {
     "name": "stdout",
     "output_type": "stream",
     "text": [
      "Muzyka__Klasyczna  Muzyka__Rock  Muzyka__hip-hop  Muzyka__inna  Muzyka__pop\n",
      "False              False         False            False         True           8\n",
      "                                 True             False         False          8\n",
      "                   True          False            False         False          6\n",
      "True               False         False            False         False          4\n",
      "False              False         False            True          False          3\n",
      "Name: count, dtype: int64\n"
     ]
    }
   ],
   "execution_count": 28
  },
  {
   "metadata": {
    "ExecuteTime": {
     "end_time": "2025-01-10T18:58:47.898035Z",
     "start_time": "2025-01-10T18:58:47.876006Z"
    }
   },
   "cell_type": "code",
   "source": "print(df['Muzyka__Klasyczna'])",
   "id": "17ed964a7b2b398",
   "outputs": [
    {
     "name": "stdout",
     "output_type": "stream",
     "text": [
      "0     False\n",
      "1     False\n",
      "2     False\n",
      "3     False\n",
      "4     False\n",
      "5     False\n",
      "6      True\n",
      "7      True\n",
      "8     False\n",
      "9     False\n",
      "10    False\n",
      "11    False\n",
      "12    False\n",
      "13    False\n",
      "14    False\n",
      "15    False\n",
      "16    False\n",
      "17    False\n",
      "18    False\n",
      "19    False\n",
      "20     True\n",
      "21    False\n",
      "22    False\n",
      "23    False\n",
      "24    False\n",
      "25    False\n",
      "26    False\n",
      "27     True\n",
      "28    False\n",
      "Name: Muzyka__Klasyczna, dtype: bool\n"
     ]
    }
   ],
   "execution_count": 29
  },
  {
   "metadata": {
    "ExecuteTime": {
     "end_time": "2025-01-10T20:29:53.700695Z",
     "start_time": "2025-01-10T20:29:53.646937Z"
    }
   },
   "cell_type": "code",
   "source": [
    "reduced_df=df[['Moda']+choosen_columns]\n",
    "reduced_df.to_csv('./res/df_inne_choosen_entropy',index=False)\n",
    "print(reduced_df.value_counts())"
   ],
   "id": "440f487dd815abb6",
   "outputs": [
    {
     "name": "stdout",
     "output_type": "stream",
     "text": [
      "Moda  Muzyka__Rock  Miasto__Poznan  Zajecie__Sport  Media_u__TikTok  Paznokcie__nie  Wakacje__Praca  Wartosc__Kariera  Napoj__woda\n",
      "0     False         False           False           True             False           False           False             True           2\n",
      "1     False         False           False           False            False           False           False             False          2\n",
      "0     False         False           False           False            False           False           True              False          1\n",
      "                                                    True             True            False           True              True           1\n",
      "                                    True            False            True            False           False             False          1\n",
      "                                                    True             False           False           False             True           1\n",
      "                    True            True            False            True            False           False             False          1\n",
      "                                                                                                                       True           1\n",
      "      True          False           False           False            False           False           False             True           1\n",
      "                                    True            False            False           False           False             True           1\n",
      "      False         False           False           False            False           False           True              True           1\n",
      "      True          True            False           True             False           False           False             True           1\n",
      "                                    True            False            False           False           False             False          1\n",
      "1     False         False           False           False            False           False           False             True           1\n",
      "                                                    True             False           False           False             True           1\n",
      "                                                                                                     True              True           1\n",
      "                    True            False           False            False           False           False             True           1\n",
      "                                                                     True            False           True              True           1\n",
      "      True          True            False           False            True            False           False             True           1\n",
      "2     False         False           False           False            True            False           False             False          1\n",
      "                                                                                                     True              False          1\n",
      "                                                    True             True            True            False             False          1\n",
      "                                                                                                                       True           1\n",
      "                    True            False           False            False           True            False             False          1\n",
      "                                                                     True            False           False             True           1\n",
      "                                                                                     True            False             True           1\n",
      "      True          False           False           False            True            False           True              False          1\n",
      "Name: count, dtype: int64\n"
     ]
    }
   ],
   "execution_count": 44
  }
 ],
 "metadata": {
  "kernelspec": {
   "display_name": "Python ML",
   "language": "python",
   "name": "pythonproject"
  },
  "language_info": {
   "codemirror_mode": {
    "name": "ipython",
    "version": 2
   },
   "file_extension": ".py",
   "mimetype": "text/x-python",
   "name": "python",
   "nbconvert_exporter": "python",
   "pygments_lexer": "ipython2",
   "version": "2.7.6"
  }
 },
 "nbformat": 4,
 "nbformat_minor": 5
}
