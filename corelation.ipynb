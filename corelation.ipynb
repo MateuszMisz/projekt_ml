{
 "cells": [
  {
   "cell_type": "code",
   "id": "initial_id",
   "metadata": {
    "collapsed": true,
    "ExecuteTime": {
     "end_time": "2025-01-05T15:40:05.081239Z",
     "start_time": "2025-01-05T15:40:05.062870Z"
    }
   },
   "source": [
    "from itertools import combinations\n",
    "\n",
    "import pandas as pd\n",
    "import numpy as np\n",
    "df=pd.read_csv('./res/df_imputed_dropped_klub.csv')\n",
    "print (df)"
   ],
   "outputs": [
    {
     "name": "stdout",
     "output_type": "stream",
     "text": [
      "               Moda     Muzyka       Film             Sport_u  \\\n",
      "0            Casual    hip-hop     dramat  silownia (fitness)   \n",
      "1   nie dbam o mode    hip-hop    fantasy           siatkowka   \n",
      "2            Casual       Rock    komedia         pilka nozna   \n",
      "3            Casual       Rock     dramat  silownia (fitness)   \n",
      "4            Casual    hip-hop    fantasy  silownia (fitness)   \n",
      "5   nie dbam o mode    hip-hop    komedia         pilka nozna   \n",
      "6   nie dbam o mode  Klasyczna    fantasy            plywanie   \n",
      "7   nie dbam o mode  Klasyczna     horror  silownia (fitness)   \n",
      "8          Sportowy        pop    fantasy           siatkowka   \n",
      "9            Casual    hip-hop   kryminal  silownia (fitness)   \n",
      "10        Elegancki    hip-hop     dramat  silownia (fitness)   \n",
      "11        Elegancki        pop    komedia            plywanie   \n",
      "12           Casual       Rock     dramat            plywanie   \n",
      "13           Casual        pop     dramat  silownia (fitness)   \n",
      "14           Casual       Rock    komedia  silownia (fitness)   \n",
      "15        Elegancki       punk     horror  silownia (fitness)   \n",
      "16        Elegancki       Rock    fantasy  silownia (fitness)   \n",
      "17        Elegancki    hip-hop    fantasy         pilka nozna   \n",
      "18        Elegancki        pop   kryminal  silownia (fitness)   \n",
      "19        Elegancki       Jazz  familijne               tenis   \n",
      "20  nie dbam o mode  Klasyczna    fantasy            plywanie   \n",
      "21  nie dbam o mode    hip-hop    fantasy           siatkowka   \n",
      "22  nie dbam o mode        pop    fantasy           siatkowka   \n",
      "23        Elegancki        pop    fantasy           siatkowka   \n",
      "24  nie dbam o mode       Rock   kryminal  silownia (fitness)   \n",
      "25           Casual        pop     horror  silownia (fitness)   \n",
      "26           Casual        pop   kryminal  silownia (fitness)   \n",
      "27           Casual  Klasyczna    komedia  silownia (fitness)   \n",
      "28         Sportowy      dance   kryminal               tenis   \n",
      "\n",
      "                  Sport_o   Komputer Samochod   Literatura     Smak  \\\n",
      "0       skoki narciarskie      Apple   Toyota      powiesc  slodkie   \n",
      "1       skoki narciarskie     Lenovo   Toyota  opowiadanie  slodkie   \n",
      "2       skoki narciarskie     Lenovo     Ford      powiesc  slodkie   \n",
      "3         hokej na lodzie     Lenovo   Toyota      powiesc    slone   \n",
      "4       skoki narciarskie      Apple     Audi      powiesc    slone   \n",
      "5       skoki narciarskie       Dell      BMW      powiesc    slone   \n",
      "6       skoki narciarskie       Acer      BMW  opowiadanie    slone   \n",
      "7    lyzwiarstwo figurowe     Lenovo  Citroen        bajka    slone   \n",
      "8    lyzwiarstwo figurowe     Lenovo     Ford  opowiadanie   kwasne   \n",
      "9       skoki narciarskie       Dell      BMW      powiesc  slodkie   \n",
      "10      skoki narciarskie       Acer      BMW  opowiadanie    slone   \n",
      "11   lyzwiarstwo figurowe      Apple     Audi      powiesc  slodkie   \n",
      "12      skoki narciarskie      Apple   Toyota      powiesc   kwasne   \n",
      "13  narciarstwo alpejskie       Dell     Audi      powiesc    slone   \n",
      "14        hokej na lodzie     Lenovo   Toyota  opowiadanie    slone   \n",
      "15   lyzwiarstwo figurowe      Apple     Audi      powiesc  slodkie   \n",
      "16        hokej na lodzie       Dell  Citroen      powiesc    slone   \n",
      "17      skoki narciarskie      Apple     Fiat      powiesc    slone   \n",
      "18      skoki narciarskie     Lenovo   Toyota      powiesc    slone   \n",
      "19               bobsleje      Apple      BMW         esej   kwasne   \n",
      "20      skoki narciarskie  Microsoft      BMW      powiesc  slodkie   \n",
      "21        hokej na lodzie     Lenovo     Audi      powiesc    slone   \n",
      "22        hokej na lodzie     Lenovo     Audi      powiesc    slone   \n",
      "23      skoki narciarskie      Apple     Audi  opowiadanie    slone   \n",
      "24        hokej na lodzie      Apple     Audi      powiesc   kwasne   \n",
      "25      skoki narciarskie         HP     Audi  opowiadanie  slodkie   \n",
      "26   lyzwiarstwo figurowe      Apple      BMW      powiesc  slodkie   \n",
      "27      skoki narciarskie      Apple     Audi         esej    slone   \n",
      "28      skoki narciarskie       Dell     Ford  opowiadanie  slodkie   \n",
      "\n",
      "           Wolny_czas  ... Paznokcie            Wakacje  Rod_prz_sam  \\\n",
      "0           spaceruje  ...       tak       Podrozowanie  Przyjaciele   \n",
      "1                spie  ...       nie              Praca  Przyjaciele   \n",
      "2           spaceruje  ...       tak       Podrozowanie      Rodzina   \n",
      "3                spie  ...       tak       Podrozowanie  Przyjaciele   \n",
      "4              czytam  ...       tak       Podrozowanie  Przyjaciele   \n",
      "5                spie  ...       nie       Podrozowanie  Przyjaciele   \n",
      "6              czytam  ...       tak              Praca     samotnie   \n",
      "7              czytam  ...       nie       Podrozowanie      Rodzina   \n",
      "8              czytam  ...       nie  Odpoczynek w domu  Przyjaciele   \n",
      "9                spie  ...       tak       Podrozowanie  Przyjaciele   \n",
      "10               spie  ...       tak       Podrozowanie  Przyjaciele   \n",
      "11               spie  ...       tak       Podrozowanie      Rodzina   \n",
      "12        ide do kina  ...       tak       Podrozowanie  Przyjaciele   \n",
      "13             czytam  ...       tak       Podrozowanie      Rodzina   \n",
      "14          spaceruje  ...       tak       Podrozowanie  Przyjaciele   \n",
      "15               spie  ...       tak       Podrozowanie     samotnie   \n",
      "16             czytam  ...       nie       Podrozowanie      Rodzina   \n",
      "17          spaceruje  ...       tak       Podrozowanie  Przyjaciele   \n",
      "18          spaceruje  ...       tak       Podrozowanie      Rodzina   \n",
      "19               spie  ...       nie  Odpoczynek w domu  Przyjaciele   \n",
      "20             czytam  ...       nie  Odpoczynek w domu     samotnie   \n",
      "21               spie  ...       nie              Praca  Przyjaciele   \n",
      "22          spaceruje  ...       nie              Praca  Przyjaciele   \n",
      "23          spaceruje  ...       tak       Podrozowanie      Rodzina   \n",
      "24             czytam  ...       nie       Podrozowanie  Przyjaciele   \n",
      "25             czytam  ...       tak       Podrozowanie  Przyjaciele   \n",
      "26          spaceruje  ...       nie       Podrozowanie  Przyjaciele   \n",
      "27          spaceruje  ...       nie       Podrozowanie  Przyjaciele   \n",
      "28  ogladam telewizje  ...       nie       Podrozowanie  Przyjaciele   \n",
      "\n",
      "                 gry_czas                Jedzenie   Wartosc  \\\n",
      "0          Raz w tygodniu         Domowe jedzenie   Kariera   \n",
      "1   Kilka razy w tygodniu  Kuchnia miedzynarodowa  Przyjazn   \n",
      "2          Raz w tygodniu  Kuchnia miedzynarodowa   Rodzina   \n",
      "3   Kilka razy w tygodniu  Kuchnia miedzynarodowa  Przyjazn   \n",
      "4   Kilka razy w tygodniu         Domowe jedzenie   Kariera   \n",
      "5   Kilka razy w tygodniu  Kuchnia miedzynarodowa   Kariera   \n",
      "6   Kilka razy w tygodniu  Kuchnia miedzynarodowa  Przyjazn   \n",
      "7                  Rzadko         Domowe jedzenie   Rodzina   \n",
      "8                  Rzadko  Kuchnia miedzynarodowa  Przyjazn   \n",
      "9                  Rzadko         Domowe jedzenie   zdrowie   \n",
      "10  Kilka razy w tygodniu  Kuchnia miedzynarodowa  Przyjazn   \n",
      "11                 Rzadko  Kuchnia miedzynarodowa   Rodzina   \n",
      "12                 Rzadko  Kuchnia miedzynarodowa  Przyjazn   \n",
      "13                 Rzadko         Domowe jedzenie   Rodzina   \n",
      "14                 Rzadko  Kuchnia miedzynarodowa  Przyjazn   \n",
      "15         Raz w tygodniu  Kuchnia miedzynarodowa   Kariera   \n",
      "16  Kilka razy w tygodniu  Kuchnia miedzynarodowa   Rodzina   \n",
      "17             Codziennie         Domowe jedzenie   Rodzina   \n",
      "18  Kilka razy w tygodniu  Kuchnia miedzynarodowa   Rodzina   \n",
      "19                 Rzadko         Domowe jedzenie   Kariera   \n",
      "20             Codziennie         Domowe jedzenie   Rodzina   \n",
      "21             Codziennie               Fast food   zdrowie   \n",
      "22             Codziennie               Fast food   zdrowie   \n",
      "23  Kilka razy w tygodniu         Domowe jedzenie   Rodzina   \n",
      "24                 Rzadko  Kuchnia miedzynarodowa   Kariera   \n",
      "25                 Rzadko  Kuchnia miedzynarodowa  Przyjazn   \n",
      "26                 Rzadko         Domowe jedzenie   Kariera   \n",
      "27             Codziennie  Kuchnia miedzynarodowa  Przyjazn   \n",
      "28                 Rzadko         Domowe jedzenie  Przyjazn   \n",
      "\n",
      "                       Napoj       Dom                      Zwierzak  \\\n",
      "0                       kawa     salon                           kot   \n",
      "1                       woda  lazienka                          pies   \n",
      "2                       woda     pokoj                           kot   \n",
      "3                       woda     pokoj                           kot   \n",
      "4                       woda     pokoj                           kot   \n",
      "5                    herbata     pokoj                          pies   \n",
      "6                       soki     pokoj                          pies   \n",
      "7                       soki     salon                           kot   \n",
      "8                    herbata     pokoj                           kot   \n",
      "9                       woda     pokoj                           kot   \n",
      "10                      soki     pokoj                          pies   \n",
      "11                      woda     pokoj                          pies   \n",
      "12                      woda     salon                          pies   \n",
      "13                      woda     salon                           kot   \n",
      "14                   herbata     pokoj                           kot   \n",
      "15                      woda     pokoj                           kot   \n",
      "16                      woda     pokoj                          pies   \n",
      "17                      woda     pokoj                           kot   \n",
      "18                   herbata     salon                          pies   \n",
      "19                      woda     pokoj                          pies   \n",
      "20                      woda     pokoj  maly gryzon (kawia, mysz...)   \n",
      "21                      kawa     pokoj                          pies   \n",
      "22                      woda     pokoj                          pies   \n",
      "23                      woda     pokoj                           kot   \n",
      "24  kolorowe napoje gazowane     salon  maly gryzon (kawia, mysz...)   \n",
      "25                      woda     pokoj                           kot   \n",
      "26                      woda     pokoj                           kot   \n",
      "27                      woda     pokoj                          pies   \n",
      "28                      soki     salon                        krolik   \n",
      "\n",
      "         Plec  \n",
      "0   mezczyzna  \n",
      "1   mezczyzna  \n",
      "2   mezczyzna  \n",
      "3   mezczyzna  \n",
      "4   mezczyzna  \n",
      "5   mezczyzna  \n",
      "6   mezczyzna  \n",
      "7     kobieta  \n",
      "8     kobieta  \n",
      "9     kobieta  \n",
      "10  mezczyzna  \n",
      "11    kobieta  \n",
      "12    kobieta  \n",
      "13    kobieta  \n",
      "14    kobieta  \n",
      "15    kobieta  \n",
      "16    kobieta  \n",
      "17  mezczyzna  \n",
      "18    kobieta  \n",
      "19  mezczyzna  \n",
      "20  mezczyzna  \n",
      "21  mezczyzna  \n",
      "22  mezczyzna  \n",
      "23    kobieta  \n",
      "24    kobieta  \n",
      "25    kobieta  \n",
      "26    kobieta  \n",
      "27  mezczyzna  \n",
      "28  mezczyzna  \n",
      "\n",
      "[29 rows x 40 columns]\n"
     ]
    }
   ],
   "execution_count": 54
  },
  {
   "metadata": {
    "ExecuteTime": {
     "end_time": "2025-01-05T16:06:15.245988Z",
     "start_time": "2025-01-05T16:06:15.239130Z"
    }
   },
   "cell_type": "code",
   "source": [
    "from scipy.stats import chi2_contingency\n",
    "from itertools import combinations\n",
    "\n",
    "def v_cramers(column1,column2)->float:\n",
    "    contingency_table=pd.crosstab(column1,column2)\n",
    "    chi2, p, _, _ = chi2_contingency(contingency_table)\n",
    "    print(p)\n",
    "    n = contingency_table.sum().sum()\n",
    "    return np.sqrt(chi2 / (n * (min(contingency_table.shape) - 1)))\n",
    "def count_categorical_corelations(df:pd.DataFrame)->pd.DataFrame:\n",
    "    categorical_corelations={}\n",
    "    categorical_data=df.select_dtypes(include='object')\n",
    "    print(categorical_data.columns)\n",
    "    for col1,col2 in combinations(categorical_data.columns,2):\n",
    "        v=v_cramers(df[col1],df[col2])\n",
    "        categorical_corelations.update({(col1,col2):v})\n",
    "    return categorical_corelations\n",
    "        "
   ],
   "id": "31a105908b8cd1ae",
   "outputs": [],
   "execution_count": 64
  },
  {
   "metadata": {
    "ExecuteTime": {
     "end_time": "2025-01-05T15:40:15.287096Z",
     "start_time": "2025-01-05T15:40:11.455631Z"
    }
   },
   "cell_type": "code",
   "source": "categorical_corelations=count_categorical_corelations(df)\n",
   "id": "480d6334b75165d",
   "outputs": [
    {
     "name": "stdout",
     "output_type": "stream",
     "text": [
      "Index(['Moda', 'Muzyka', 'Film', 'Sport_u', 'Sport_o', 'Komputer', 'Samochod',\n",
      "       'Literatura', 'Smak', 'Wolny_czas', 'Miasto', 'Kraj', 'Włosy',\n",
      "       'Okulary', 'Przedmiot', 'Gra', 'Wf', 'Sniadanie', 'Sen', 'Kino_teatr',\n",
      "       'Pora', 'Ksiazki', 'Gotowanie', 'Zajecie', 'Media_u', 'Technologie',\n",
      "       'Powietrze', 'Fryzura', 'Media_k', 'Paznokcie', 'Wakacje',\n",
      "       'Rod_prz_sam', 'gry_czas', 'Jedzenie', 'Wartosc', 'Napoj', 'Dom',\n",
      "       'Zwierzak', 'Plec'],\n",
      "      dtype='object')\n"
     ]
    }
   ],
   "execution_count": 56
  },
  {
   "metadata": {
    "ExecuteTime": {
     "end_time": "2025-01-05T16:04:39.260313Z",
     "start_time": "2025-01-05T16:04:39.254979Z"
    }
   },
   "cell_type": "code",
   "source": [
    "for key,value in categorical_corelations.items():\n",
    "    if key in [('Moda','Przedmiot'),('Moda','Sen'),]: print (f'{key} : {value}')"
   ],
   "id": "8912fbd357a7254",
   "outputs": [
    {
     "name": "stdout",
     "output_type": "stream",
     "text": [
      "('Moda', 'Przedmiot') : 0.44354999350309626\n",
      "('Moda', 'Sen') : 0.3906371751349359\n"
     ]
    }
   ],
   "execution_count": 62
  },
  {
   "metadata": {
    "ExecuteTime": {
     "end_time": "2025-01-05T16:13:23.874055Z",
     "start_time": "2025-01-05T16:13:23.868215Z"
    }
   },
   "cell_type": "code",
   "source": [
    "\n",
    "df.to_csv('./res/df_imputed_dropped_klub_sen.csv',index=False)"
   ],
   "id": "73975e6d1ce7831d",
   "outputs": [],
   "execution_count": 75
  },
  {
   "metadata": {
    "ExecuteTime": {
     "end_time": "2025-01-05T16:16:38.030548Z",
     "start_time": "2025-01-05T16:16:38.015175Z"
    }
   },
   "cell_type": "code",
   "source": [
    "df=pd.read_csv('./res/df_imputed_dropped_klub_sen.csv')\n",
    "\n",
    "print(df.columns)\n",
    "print(df['Wf'])\n",
    "\n",
    "df=pd.read_csv('./res/df_imputed_dropped_klub_sen.csv')\n",
    "def stoi(string:str)->int:\n",
    "    new_str=''\n",
    "    for character in string:\n",
    "        if character.isnumeric():\n",
    "            new_str+=character\n",
    "        else: \n",
    "            break\n",
    "    return int(new_str)\n",
    "df['Wf']=df['Wf'].apply(stoi)\n",
    "print(df['Wf'])"
   ],
   "id": "25e72452b38d3c4b",
   "outputs": [
    {
     "name": "stdout",
     "output_type": "stream",
     "text": [
      "Index(['Moda', 'Muzyka', 'Film', 'Sport_u', 'Sport_o', 'Komputer', 'Samochod',\n",
      "       'Literatura', 'Smak', 'Wolny_czas', 'Miasto', 'Kraj', 'Wzrost', 'Włosy',\n",
      "       'Okulary', 'Przedmiot', 'Gra', 'Wf', 'Sniadanie', 'Kino_teatr', 'Pora',\n",
      "       'Ksiazki', 'Gotowanie', 'Zajecie', 'Media_u', 'Technologie',\n",
      "       'Powietrze', 'Fryzura', 'Media_k', 'Paznokcie', 'Wakacje',\n",
      "       'Rod_prz_sam', 'gry_czas', 'Jedzenie', 'Wartosc', 'Napoj', 'Dom',\n",
      "       'Zwierzak', 'Plec'],\n",
      "      dtype='object')\n",
      "0      2h\n",
      "1     0 h\n",
      "2      1h\n",
      "3      2h\n",
      "4      1h\n",
      "5      2h\n",
      "6      1h\n",
      "7      1h\n",
      "8      1h\n",
      "9      2h\n",
      "10     2h\n",
      "11    0 h\n",
      "12     1h\n",
      "13     1h\n",
      "14     1h\n",
      "15     1h\n",
      "16     1h\n",
      "17     1h\n",
      "18     1h\n",
      "19     1h\n",
      "20    0 h\n",
      "21    0 h\n",
      "22    0 h\n",
      "23     2h\n",
      "24     1h\n",
      "25     1h\n",
      "26     1h\n",
      "27     1h\n",
      "28     2h\n",
      "Name: Wf, dtype: object\n",
      "0     2\n",
      "1     0\n",
      "2     1\n",
      "3     2\n",
      "4     1\n",
      "5     2\n",
      "6     1\n",
      "7     1\n",
      "8     1\n",
      "9     2\n",
      "10    2\n",
      "11    0\n",
      "12    1\n",
      "13    1\n",
      "14    1\n",
      "15    1\n",
      "16    1\n",
      "17    1\n",
      "18    1\n",
      "19    1\n",
      "20    0\n",
      "21    0\n",
      "22    0\n",
      "23    2\n",
      "24    1\n",
      "25    1\n",
      "26    1\n",
      "27    1\n",
      "28    2\n",
      "Name: Wf, dtype: int64\n"
     ]
    }
   ],
   "execution_count": 82
  },
  {
   "metadata": {
    "ExecuteTime": {
     "end_time": "2025-01-05T16:19:10.442409Z",
     "start_time": "2025-01-05T16:19:10.436211Z"
    }
   },
   "cell_type": "code",
   "source": "print(df['Wzrost'])",
   "id": "5477aa3cf1cd957",
   "outputs": [
    {
     "name": "stdout",
     "output_type": "stream",
     "text": [
      "0     174.0\n",
      "1     197.5\n",
      "2     186.0\n",
      "3     186.0\n",
      "4     183.0\n",
      "5     185.0\n",
      "6     169.0\n",
      "7     159.0\n",
      "8     167.0\n",
      "9     170.0\n",
      "10    188.0\n",
      "11    167.0\n",
      "12    165.0\n",
      "13    169.0\n",
      "14    172.0\n",
      "15    173.0\n",
      "16    167.0\n",
      "17    183.0\n",
      "18    173.0\n",
      "19    181.0\n",
      "20    176.0\n",
      "21    183.0\n",
      "22    183.0\n",
      "23    178.0\n",
      "24    175.0\n",
      "25    173.0\n",
      "26    168.0\n",
      "27    195.0\n",
      "28    187.0\n",
      "Name: Wzrost, dtype: float64\n"
     ]
    }
   ],
   "execution_count": 86
  },
  {
   "metadata": {
    "ExecuteTime": {
     "end_time": "2025-01-05T16:19:22.500987Z",
     "start_time": "2025-01-05T16:19:22.492258Z"
    }
   },
   "cell_type": "code",
   "source": "print(df.select_dtypes(include=['int64','float64']).corr())",
   "id": "4e61f9413f4e943e",
   "outputs": [
    {
     "name": "stdout",
     "output_type": "stream",
     "text": [
      "         Wzrost       Wf\n",
      "Wzrost  1.00000  0.04406\n",
      "Wf      0.04406  1.00000\n"
     ]
    }
   ],
   "execution_count": 87
  },
  {
   "metadata": {
    "ExecuteTime": {
     "end_time": "2025-01-05T16:20:55.877671Z",
     "start_time": "2025-01-05T16:20:55.871516Z"
    }
   },
   "cell_type": "code",
   "source": [
    "from scipy.stats import spearmanr\n",
    "from scipy.stats import kendalltau\n",
    "correlaction=kendalltau(df['Wf'],df['Wzrost'])\n",
    "print(correlaction)"
   ],
   "id": "e8040a851b8bd5de",
   "outputs": [
    {
     "name": "stdout",
     "output_type": "stream",
     "text": [
      "SignificanceResult(statistic=np.float64(0.11761440524906099), pvalue=np.float64(0.4407089637046232))\n"
     ]
    }
   ],
   "execution_count": 90
  },
  {
   "metadata": {
    "ExecuteTime": {
     "end_time": "2025-01-05T16:35:41.508039Z",
     "start_time": "2025-01-05T16:35:41.501320Z"
    }
   },
   "cell_type": "code",
   "source": [
    "print(df.columns)\n",
    "def chi2_significance(df:pd.DataFrame)->{}:\n",
    "    significances={}\n",
    "    for column in df.select_dtypes(include=['object']).columns:\n",
    "        contingency_table=pd.crosstab(df[column],df['Moda'])\n",
    "        chi2, p, _, _ = chi2_contingency(contingency_table)\n",
    "        significances[column]=(float(chi2),float(p))\n",
    "    return significances\n"
   ],
   "id": "d794885e9ecf8cca",
   "outputs": [
    {
     "name": "stdout",
     "output_type": "stream",
     "text": [
      "Index(['Moda', 'Muzyka', 'Film', 'Sport_u', 'Sport_o', 'Komputer', 'Samochod',\n",
      "       'Literatura', 'Smak', 'Wolny_czas', 'Miasto', 'Kraj', 'Wzrost', 'Włosy',\n",
      "       'Okulary', 'Przedmiot', 'Gra', 'Wf', 'Sniadanie', 'Kino_teatr', 'Pora',\n",
      "       'Ksiazki', 'Gotowanie', 'Zajecie', 'Media_u', 'Technologie',\n",
      "       'Powietrze', 'Fryzura', 'Media_k', 'Paznokcie', 'Wakacje',\n",
      "       'Rod_prz_sam', 'gry_czas', 'Jedzenie', 'Wartosc', 'Napoj', 'Dom',\n",
      "       'Zwierzak', 'Plec'],\n",
      "      dtype='object')\n"
     ]
    }
   ],
   "execution_count": 97
  },
  {
   "metadata": {
    "ExecuteTime": {
     "end_time": "2025-01-05T16:36:44.841707Z",
     "start_time": "2025-01-05T16:36:44.660736Z"
    }
   },
   "cell_type": "code",
   "source": "significances=chi2_significance(df)\n",
   "id": "aa911185a9389729",
   "outputs": [
    {
     "name": "stdout",
     "output_type": "stream",
     "text": [
      "Moda : (87.0, 6.498094776442212e-15)\n",
      "Samochod : (25.68257575757576, 0.041494476617433544)\n",
      "Wolny_czas : (21.82323232323232, 0.03954937731280141)\n",
      "Pora : (17.52382920110193, 0.04111752751958173)\n",
      "Zajecie : (18.634297520661157, 0.028488307277871095)\n",
      "Media_k : (13.48939393939394, 0.03589013622505964)\n",
      "Paznokcie : (12.780976835664337, 0.005135010942132214)\n",
      "Wakacje : (17.465909090909093, 0.007715177587652727)\n",
      "Zwierzak : (27.6112012987013, 0.0011074595387860105)\n"
     ]
    }
   ],
   "execution_count": 99
  },
  {
   "metadata": {
    "ExecuteTime": {
     "end_time": "2025-01-05T16:40:40.369555Z",
     "start_time": "2025-01-05T16:40:40.365429Z"
    }
   },
   "cell_type": "code",
   "source": [
    "significant_columns=[]\n",
    "for key,value in significances.items():\n",
    "    if value[1]<0.5: significant_columns.append(key)"
   ],
   "id": "1d58259c2cabe5dd",
   "outputs": [],
   "execution_count": 104
  },
  {
   "metadata": {
    "ExecuteTime": {
     "end_time": "2025-01-05T16:42:04.242165Z",
     "start_time": "2025-01-05T16:42:04.216624Z"
    }
   },
   "cell_type": "code",
   "source": [
    "for column in significant_columns:\n",
    "    print(df[column].value_counts())\n",
    "    print()"
   ],
   "id": "559ca1ead3807332",
   "outputs": [
    {
     "name": "stdout",
     "output_type": "stream",
     "text": [
      "Moda\n",
      "Casual             11\n",
      "nie dbam o mode     8\n",
      "Elegancki           8\n",
      "Sportowy            2\n",
      "Name: count, dtype: int64\n",
      "\n",
      "Muzyka\n",
      "hip-hop      8\n",
      "pop          8\n",
      "Rock         6\n",
      "Klasyczna    4\n",
      "punk         1\n",
      "Jazz         1\n",
      "dance        1\n",
      "Name: count, dtype: int64\n",
      "\n",
      "Sport_u\n",
      "silownia (fitness)    15\n",
      "siatkowka              5\n",
      "plywanie               4\n",
      "pilka nozna            3\n",
      "tenis                  2\n",
      "Name: count, dtype: int64\n",
      "\n",
      "Samochod\n",
      "Audi       10\n",
      "BMW         7\n",
      "Toyota      6\n",
      "Ford        3\n",
      "Citroen     2\n",
      "Fiat        1\n",
      "Name: count, dtype: int64\n",
      "\n",
      "Literatura\n",
      "powiesc        18\n",
      "opowiadanie     8\n",
      "esej            2\n",
      "bajka           1\n",
      "Name: count, dtype: int64\n",
      "\n",
      "Wolny_czas\n",
      "spaceruje            9\n",
      "spie                 9\n",
      "czytam               9\n",
      "ide do kina          1\n",
      "ogladam telewizje    1\n",
      "Name: count, dtype: int64\n",
      "\n",
      "Kraj\n",
      "Polska               12\n",
      "Japonia               7\n",
      "Niemcy                5\n",
      "Stany Zjednoczone     3\n",
      "Australia             2\n",
      "Name: count, dtype: int64\n",
      "\n",
      "Włosy\n",
      "szatyn    14\n",
      "blond     10\n",
      "czarny     2\n",
      "biale      2\n",
      "siwe       1\n",
      "Name: count, dtype: int64\n",
      "\n",
      "Gra\n",
      "strategiczne    10\n",
      "strzelanki       6\n",
      "logiczne         6\n",
      "przygodowe       5\n",
      "karciane         2\n",
      "Name: count, dtype: int64\n",
      "\n",
      "Sniadanie\n",
      "tak    22\n",
      "nie     7\n",
      "Name: count, dtype: int64\n",
      "\n",
      "Kino_teatr\n",
      "nie    19\n",
      "tak    10\n",
      "Name: count, dtype: int64\n",
      "\n",
      "Pora\n",
      "wiosna    11\n",
      "lato      10\n",
      "zima       6\n",
      "jesien     2\n",
      "Name: count, dtype: int64\n",
      "\n",
      "Ksiazki\n",
      "ksiazki papierowe    21\n",
      "ebooki                7\n",
      "nie czytam            1\n",
      "Name: count, dtype: int64\n",
      "\n",
      "Zajecie\n",
      "sluchanie muzyki    11\n",
      "Gry komputerowe      6\n",
      "Sport                6\n",
      "Czytanie             6\n",
      "Name: count, dtype: int64\n",
      "\n",
      "Media_u\n",
      "Instagram     12\n",
      "TikTok         9\n",
      "nie uzywam     4\n",
      "Facebook       4\n",
      "Name: count, dtype: int64\n",
      "\n",
      "Technologie\n",
      "tak    22\n",
      "nie     7\n",
      "Name: count, dtype: int64\n",
      "\n",
      "Powietrze\n",
      "Codziennie               15\n",
      "Kilka razy w tygodniu    13\n",
      "Rzadko                    1\n",
      "Name: count, dtype: int64\n",
      "\n",
      "Media_k\n",
      "Codziennie               20\n",
      "Kilka razy w tygodniu     6\n",
      "Rzadko                    3\n",
      "Name: count, dtype: int64\n",
      "\n",
      "Paznokcie\n",
      "tak    16\n",
      "nie    13\n",
      "Name: count, dtype: int64\n",
      "\n",
      "Wakacje\n",
      "Podrozowanie         22\n",
      "Praca                 4\n",
      "Odpoczynek w domu     3\n",
      "Name: count, dtype: int64\n",
      "\n",
      "Rod_prz_sam\n",
      "Przyjaciele    19\n",
      "Rodzina         7\n",
      "samotnie        3\n",
      "Name: count, dtype: int64\n",
      "\n",
      "gry_czas\n",
      "Rzadko                   12\n",
      "Kilka razy w tygodniu     9\n",
      "Codziennie                5\n",
      "Raz w tygodniu            3\n",
      "Name: count, dtype: int64\n",
      "\n",
      "Jedzenie\n",
      "Kuchnia miedzynarodowa    16\n",
      "Domowe jedzenie           11\n",
      "Fast food                  2\n",
      "Name: count, dtype: int64\n",
      "\n",
      "Wartosc\n",
      "Przyjazn    10\n",
      "Rodzina      9\n",
      "Kariera      7\n",
      "zdrowie      3\n",
      "Name: count, dtype: int64\n",
      "\n",
      "Napoj\n",
      "woda                        18\n",
      "soki                         4\n",
      "herbata                      4\n",
      "kawa                         2\n",
      "kolorowe napoje gazowane     1\n",
      "Name: count, dtype: int64\n",
      "\n",
      "Zwierzak\n",
      "kot                             14\n",
      "pies                            12\n",
      "maly gryzon (kawia, mysz...)     2\n",
      "krolik                           1\n",
      "Name: count, dtype: int64\n",
      "\n",
      "Plec\n",
      "mezczyzna    15\n",
      "kobieta      14\n",
      "Name: count, dtype: int64\n",
      "\n"
     ]
    }
   ],
   "execution_count": 107
  },
  {
   "metadata": {
    "ExecuteTime": {
     "end_time": "2025-01-06T18:05:16.316978Z",
     "start_time": "2025-01-06T18:05:16.287205Z"
    }
   },
   "cell_type": "code",
   "source": "print(df['Moda'].value_counts())",
   "id": "d046111346d42cbd",
   "outputs": [
    {
     "name": "stdout",
     "output_type": "stream",
     "text": [
      "Moda\n",
      "Casual             11\n",
      "nie dbam o mode     8\n",
      "Elegancki           8\n",
      "Sportowy            2\n",
      "Name: count, dtype: int64\n"
     ]
    }
   ],
   "execution_count": 108
  }
 ],
 "metadata": {
  "kernelspec": {
   "display_name": "Python 3",
   "language": "python",
   "name": "python3"
  },
  "language_info": {
   "codemirror_mode": {
    "name": "ipython",
    "version": 2
   },
   "file_extension": ".py",
   "mimetype": "text/x-python",
   "name": "python",
   "nbconvert_exporter": "python",
   "pygments_lexer": "ipython2",
   "version": "2.7.6"
  }
 },
 "nbformat": 4,
 "nbformat_minor": 5
}
