{
 "cells": [
  {
   "cell_type": "code",
   "id": "initial_id",
   "metadata": {
    "collapsed": true,
    "ExecuteTime": {
     "end_time": "2025-01-24T19:17:43.316812Z",
     "start_time": "2025-01-24T19:17:43.292047Z"
    }
   },
   "source": [
    "from itertools import combinations\n",
    "\n",
    "import pandas as pd\n",
    "import numpy as np\n",
    "df=pd.read_csv('./res/selected_features_lasso.csv')\n",
    "print (df)"
   ],
   "outputs": [
    {
     "name": "stdout",
     "output_type": "stream",
     "text": [
      "    Moda  Wolny_czas__spie  Sniadanie__nie  Zajecie__Czytanie  Paznokcie__nie  \\\n",
      "0      0             False           False              False           False   \n",
      "1      2              True           False              False            True   \n",
      "2      0             False           False              False           False   \n",
      "3      0              True           False              False           False   \n",
      "4      0             False           False              False           False   \n",
      "5      2              True            True              False            True   \n",
      "6      2             False           False               True           False   \n",
      "7      2             False           False               True            True   \n",
      "8      0             False            True              False            True   \n",
      "9      0              True           False              False           False   \n",
      "10     1              True            True              False           False   \n",
      "11     1              True           False              False           False   \n",
      "12     0             False           False              False           False   \n",
      "13     0             False           False               True           False   \n",
      "14     0             False           False              False           False   \n",
      "15     1              True            True              False           False   \n",
      "16     1             False           False               True            True   \n",
      "17     1             False           False              False           False   \n",
      "18     1             False           False              False           False   \n",
      "19     1              True           False              False            True   \n",
      "20     2             False           False              False            True   \n",
      "21     2              True            True              False            True   \n",
      "22     2             False            True              False            True   \n",
      "23     1             False            True              False           False   \n",
      "24     2             False           False               True            True   \n",
      "25     0             False           False               True           False   \n",
      "26     0             False           False              False            True   \n",
      "27     0             False           False              False            True   \n",
      "28     0             False           False              False            True   \n",
      "\n",
      "    Wakacje__Praca  \n",
      "0            False  \n",
      "1             True  \n",
      "2            False  \n",
      "3            False  \n",
      "4            False  \n",
      "5            False  \n",
      "6             True  \n",
      "7            False  \n",
      "8            False  \n",
      "9            False  \n",
      "10           False  \n",
      "11           False  \n",
      "12           False  \n",
      "13           False  \n",
      "14           False  \n",
      "15           False  \n",
      "16           False  \n",
      "17           False  \n",
      "18           False  \n",
      "19           False  \n",
      "20           False  \n",
      "21            True  \n",
      "22            True  \n",
      "23           False  \n",
      "24           False  \n",
      "25           False  \n",
      "26           False  \n",
      "27           False  \n",
      "28           False  \n"
     ]
    }
   ],
   "execution_count": 19
  },
  {
   "metadata": {
    "ExecuteTime": {
     "end_time": "2025-01-24T19:17:45.988009Z",
     "start_time": "2025-01-24T19:17:44.367840Z"
    }
   },
   "cell_type": "code",
   "source": "print(df['Napoj__soki'])",
   "id": "8e95e7d6fa237e31",
   "outputs": [
    {
     "ename": "KeyError",
     "evalue": "'Napoj__soki'",
     "output_type": "error",
     "traceback": [
      "\u001B[0;31m---------------------------------------------------------------------------\u001B[0m",
      "\u001B[0;31mKeyError\u001B[0m                                  Traceback (most recent call last)",
      "File \u001B[0;32m~/.local/lib/python3.10/site-packages/pandas/core/indexes/base.py:3805\u001B[0m, in \u001B[0;36mIndex.get_loc\u001B[0;34m(self, key)\u001B[0m\n\u001B[1;32m   3804\u001B[0m \u001B[38;5;28;01mtry\u001B[39;00m:\n\u001B[0;32m-> 3805\u001B[0m     \u001B[38;5;28;01mreturn\u001B[39;00m \u001B[38;5;28;43mself\u001B[39;49m\u001B[38;5;241;43m.\u001B[39;49m\u001B[43m_engine\u001B[49m\u001B[38;5;241;43m.\u001B[39;49m\u001B[43mget_loc\u001B[49m\u001B[43m(\u001B[49m\u001B[43mcasted_key\u001B[49m\u001B[43m)\u001B[49m\n\u001B[1;32m   3806\u001B[0m \u001B[38;5;28;01mexcept\u001B[39;00m \u001B[38;5;167;01mKeyError\u001B[39;00m \u001B[38;5;28;01mas\u001B[39;00m err:\n",
      "File \u001B[0;32mindex.pyx:167\u001B[0m, in \u001B[0;36mpandas._libs.index.IndexEngine.get_loc\u001B[0;34m()\u001B[0m\n",
      "File \u001B[0;32mindex.pyx:196\u001B[0m, in \u001B[0;36mpandas._libs.index.IndexEngine.get_loc\u001B[0;34m()\u001B[0m\n",
      "File \u001B[0;32mpandas/_libs/hashtable_class_helper.pxi:7081\u001B[0m, in \u001B[0;36mpandas._libs.hashtable.PyObjectHashTable.get_item\u001B[0;34m()\u001B[0m\n",
      "File \u001B[0;32mpandas/_libs/hashtable_class_helper.pxi:7089\u001B[0m, in \u001B[0;36mpandas._libs.hashtable.PyObjectHashTable.get_item\u001B[0;34m()\u001B[0m\n",
      "\u001B[0;31mKeyError\u001B[0m: 'Napoj__soki'",
      "\nThe above exception was the direct cause of the following exception:\n",
      "\u001B[0;31mKeyError\u001B[0m                                  Traceback (most recent call last)",
      "Cell \u001B[0;32mIn[20], line 1\u001B[0m\n\u001B[0;32m----> 1\u001B[0m \u001B[38;5;28mprint\u001B[39m(\u001B[43mdf\u001B[49m\u001B[43m[\u001B[49m\u001B[38;5;124;43m'\u001B[39;49m\u001B[38;5;124;43mNapoj__soki\u001B[39;49m\u001B[38;5;124;43m'\u001B[39;49m\u001B[43m]\u001B[49m)\n",
      "File \u001B[0;32m~/.local/lib/python3.10/site-packages/pandas/core/frame.py:4102\u001B[0m, in \u001B[0;36mDataFrame.__getitem__\u001B[0;34m(self, key)\u001B[0m\n\u001B[1;32m   4100\u001B[0m \u001B[38;5;28;01mif\u001B[39;00m \u001B[38;5;28mself\u001B[39m\u001B[38;5;241m.\u001B[39mcolumns\u001B[38;5;241m.\u001B[39mnlevels \u001B[38;5;241m>\u001B[39m \u001B[38;5;241m1\u001B[39m:\n\u001B[1;32m   4101\u001B[0m     \u001B[38;5;28;01mreturn\u001B[39;00m \u001B[38;5;28mself\u001B[39m\u001B[38;5;241m.\u001B[39m_getitem_multilevel(key)\n\u001B[0;32m-> 4102\u001B[0m indexer \u001B[38;5;241m=\u001B[39m \u001B[38;5;28;43mself\u001B[39;49m\u001B[38;5;241;43m.\u001B[39;49m\u001B[43mcolumns\u001B[49m\u001B[38;5;241;43m.\u001B[39;49m\u001B[43mget_loc\u001B[49m\u001B[43m(\u001B[49m\u001B[43mkey\u001B[49m\u001B[43m)\u001B[49m\n\u001B[1;32m   4103\u001B[0m \u001B[38;5;28;01mif\u001B[39;00m is_integer(indexer):\n\u001B[1;32m   4104\u001B[0m     indexer \u001B[38;5;241m=\u001B[39m [indexer]\n",
      "File \u001B[0;32m~/.local/lib/python3.10/site-packages/pandas/core/indexes/base.py:3812\u001B[0m, in \u001B[0;36mIndex.get_loc\u001B[0;34m(self, key)\u001B[0m\n\u001B[1;32m   3807\u001B[0m     \u001B[38;5;28;01mif\u001B[39;00m \u001B[38;5;28misinstance\u001B[39m(casted_key, \u001B[38;5;28mslice\u001B[39m) \u001B[38;5;129;01mor\u001B[39;00m (\n\u001B[1;32m   3808\u001B[0m         \u001B[38;5;28misinstance\u001B[39m(casted_key, abc\u001B[38;5;241m.\u001B[39mIterable)\n\u001B[1;32m   3809\u001B[0m         \u001B[38;5;129;01mand\u001B[39;00m \u001B[38;5;28many\u001B[39m(\u001B[38;5;28misinstance\u001B[39m(x, \u001B[38;5;28mslice\u001B[39m) \u001B[38;5;28;01mfor\u001B[39;00m x \u001B[38;5;129;01min\u001B[39;00m casted_key)\n\u001B[1;32m   3810\u001B[0m     ):\n\u001B[1;32m   3811\u001B[0m         \u001B[38;5;28;01mraise\u001B[39;00m InvalidIndexError(key)\n\u001B[0;32m-> 3812\u001B[0m     \u001B[38;5;28;01mraise\u001B[39;00m \u001B[38;5;167;01mKeyError\u001B[39;00m(key) \u001B[38;5;28;01mfrom\u001B[39;00m \u001B[38;5;21;01merr\u001B[39;00m\n\u001B[1;32m   3813\u001B[0m \u001B[38;5;28;01mexcept\u001B[39;00m \u001B[38;5;167;01mTypeError\u001B[39;00m:\n\u001B[1;32m   3814\u001B[0m     \u001B[38;5;66;03m# If we have a listlike key, _check_indexing_error will raise\u001B[39;00m\n\u001B[1;32m   3815\u001B[0m     \u001B[38;5;66;03m#  InvalidIndexError. Otherwise we fall through and re-raise\u001B[39;00m\n\u001B[1;32m   3816\u001B[0m     \u001B[38;5;66;03m#  the TypeError.\u001B[39;00m\n\u001B[1;32m   3817\u001B[0m     \u001B[38;5;28mself\u001B[39m\u001B[38;5;241m.\u001B[39m_check_indexing_error(key)\n",
      "\u001B[0;31mKeyError\u001B[0m: 'Napoj__soki'"
     ]
    }
   ],
   "execution_count": 20
  },
  {
   "metadata": {
    "ExecuteTime": {
     "end_time": "2025-01-24T19:17:47.511006Z",
     "start_time": "2025-01-24T19:17:47.480446Z"
    }
   },
   "cell_type": "code",
   "source": [
    "\n",
    "from scipy.stats import chi2_contingency\n",
    "from itertools import combinations\n",
    "from typing import Tuple\n",
    "def v_cramers(column1,column2)->Tuple[float,float]:\n",
    "    contingency_table=pd.crosstab(column1,column2)\n",
    "    chi2, p, _, _ = chi2_contingency(contingency_table)\n",
    "    n = contingency_table.sum().sum()\n",
    "    return np.sqrt(chi2 / (n * (min(contingency_table.shape) - 1))),p\n",
    "def count_categorical_corelations(df:pd.DataFrame)->pd.DataFrame:\n",
    "    categorical_corelations={}\n",
    "    categorical_data=df\n",
    "    print(categorical_data.columns)\n",
    "    for col1,col2 in combinations(categorical_data.columns,2):\n",
    "        v,p=v_cramers(df[col1],df[col2])\n",
    "        categorical_corelations.update({(col1,col2):(v,p)})\n",
    "    return categorical_corelations\n",
    "        "
   ],
   "id": "31a105908b8cd1ae",
   "outputs": [],
   "execution_count": 21
  },
  {
   "metadata": {
    "ExecuteTime": {
     "end_time": "2025-01-24T19:17:49.664303Z",
     "start_time": "2025-01-24T19:17:49.479506Z"
    }
   },
   "cell_type": "code",
   "source": [
    "for key,value in count_categorical_corelations(df).items():\n",
    "    if value[1] < 0.05 :\n",
    "        print(f'key: {key}, v:{value[0]}, p : {value[1]}')"
   ],
   "id": "8912fbd357a7254",
   "outputs": [
    {
     "name": "stdout",
     "output_type": "stream",
     "text": [
      "Index(['Moda', 'Wolny_czas__spie', 'Sniadanie__nie', 'Zajecie__Czytanie',\n",
      "       'Paznokcie__nie', 'Wakacje__Praca'],\n",
      "      dtype='object')\n",
      "key: ('Moda', 'Paznokcie__nie'), v:0.5317664127711332, p : 0.016568615471085683\n",
      "key: ('Moda', 'Wakacje__Praca'), v:0.648074069840786, p : 0.0022654089148143215\n"
     ]
    }
   ],
   "execution_count": 22
  },
  {
   "metadata": {
    "ExecuteTime": {
     "end_time": "2025-01-05T16:13:23.874055Z",
     "start_time": "2025-01-05T16:13:23.868215Z"
    }
   },
   "cell_type": "code",
   "source": [
    "df_dropped=df.drop('',axis=1)\n",
    "\n",
    "df.to_csv('./res/df_imputed_dropped_klub_sen.csv',index=False)"
   ],
   "id": "73975e6d1ce7831d",
   "outputs": [],
   "execution_count": 75
  },
  {
   "metadata": {
    "ExecuteTime": {
     "end_time": "2025-01-05T16:16:38.030548Z",
     "start_time": "2025-01-05T16:16:38.015175Z"
    }
   },
   "cell_type": "code",
   "source": [
    "##### dalej chyba nie bylo uzywane w tym pliku ostatecnzie\n",
    "\n",
    "\n",
    "\n",
    "\n",
    "df=pd.read_csv('./res/df_imputed_dropped_klub_sen.csv')\n",
    "\n",
    "print(df.columns)\n",
    "print(df['Wf'])\n",
    "\n",
    "df=pd.read_csv('./res/df_imputed_dropped_klub_sen.csv')\n",
    "def stoi(string:str)->int:\n",
    "    new_str=''\n",
    "    for character in string:\n",
    "        if character.isnumeric():\n",
    "            new_str+=character\n",
    "        else: \n",
    "            break\n",
    "    return int(new_str)\n",
    "df['Wf']=df['Wf'].apply(stoi)\n",
    "print(df['Wf'])"
   ],
   "id": "25e72452b38d3c4b",
   "outputs": [
    {
     "name": "stdout",
     "output_type": "stream",
     "text": [
      "Index(['Moda', 'Muzyka', 'Film', 'Sport_u', 'Sport_o', 'Komputer', 'Samochod',\n",
      "       'Literatura', 'Smak', 'Wolny_czas', 'Miasto', 'Kraj', 'Wzrost', 'Włosy',\n",
      "       'Okulary', 'Przedmiot', 'Gra', 'Wf', 'Sniadanie', 'Kino_teatr', 'Pora',\n",
      "       'Ksiazki', 'Gotowanie', 'Zajecie', 'Media_u', 'Technologie',\n",
      "       'Powietrze', 'Fryzura', 'Media_k', 'Paznokcie', 'Wakacje',\n",
      "       'Rod_prz_sam', 'gry_czas', 'Jedzenie', 'Wartosc', 'Napoj', 'Dom',\n",
      "       'Zwierzak', 'Plec'],\n",
      "      dtype='object')\n",
      "0      2h\n",
      "1     0 h\n",
      "2      1h\n",
      "3      2h\n",
      "4      1h\n",
      "5      2h\n",
      "6      1h\n",
      "7      1h\n",
      "8      1h\n",
      "9      2h\n",
      "10     2h\n",
      "11    0 h\n",
      "12     1h\n",
      "13     1h\n",
      "14     1h\n",
      "15     1h\n",
      "16     1h\n",
      "17     1h\n",
      "18     1h\n",
      "19     1h\n",
      "20    0 h\n",
      "21    0 h\n",
      "22    0 h\n",
      "23     2h\n",
      "24     1h\n",
      "25     1h\n",
      "26     1h\n",
      "27     1h\n",
      "28     2h\n",
      "Name: Wf, dtype: object\n",
      "0     2\n",
      "1     0\n",
      "2     1\n",
      "3     2\n",
      "4     1\n",
      "5     2\n",
      "6     1\n",
      "7     1\n",
      "8     1\n",
      "9     2\n",
      "10    2\n",
      "11    0\n",
      "12    1\n",
      "13    1\n",
      "14    1\n",
      "15    1\n",
      "16    1\n",
      "17    1\n",
      "18    1\n",
      "19    1\n",
      "20    0\n",
      "21    0\n",
      "22    0\n",
      "23    2\n",
      "24    1\n",
      "25    1\n",
      "26    1\n",
      "27    1\n",
      "28    2\n",
      "Name: Wf, dtype: int64\n"
     ]
    }
   ],
   "execution_count": 82
  },
  {
   "metadata": {
    "ExecuteTime": {
     "end_time": "2025-01-05T16:19:10.442409Z",
     "start_time": "2025-01-05T16:19:10.436211Z"
    }
   },
   "cell_type": "code",
   "source": "print(df['Wzrost'])",
   "id": "5477aa3cf1cd957",
   "outputs": [
    {
     "name": "stdout",
     "output_type": "stream",
     "text": [
      "0     174.0\n",
      "1     197.5\n",
      "2     186.0\n",
      "3     186.0\n",
      "4     183.0\n",
      "5     185.0\n",
      "6     169.0\n",
      "7     159.0\n",
      "8     167.0\n",
      "9     170.0\n",
      "10    188.0\n",
      "11    167.0\n",
      "12    165.0\n",
      "13    169.0\n",
      "14    172.0\n",
      "15    173.0\n",
      "16    167.0\n",
      "17    183.0\n",
      "18    173.0\n",
      "19    181.0\n",
      "20    176.0\n",
      "21    183.0\n",
      "22    183.0\n",
      "23    178.0\n",
      "24    175.0\n",
      "25    173.0\n",
      "26    168.0\n",
      "27    195.0\n",
      "28    187.0\n",
      "Name: Wzrost, dtype: float64\n"
     ]
    }
   ],
   "execution_count": 86
  },
  {
   "metadata": {
    "ExecuteTime": {
     "end_time": "2025-01-05T16:19:22.500987Z",
     "start_time": "2025-01-05T16:19:22.492258Z"
    }
   },
   "cell_type": "code",
   "source": "print(df.select_dtypes(include=['int64','float64']).corr())",
   "id": "4e61f9413f4e943e",
   "outputs": [
    {
     "name": "stdout",
     "output_type": "stream",
     "text": [
      "         Wzrost       Wf\n",
      "Wzrost  1.00000  0.04406\n",
      "Wf      0.04406  1.00000\n"
     ]
    }
   ],
   "execution_count": 87
  },
  {
   "metadata": {
    "ExecuteTime": {
     "end_time": "2025-01-05T16:20:55.877671Z",
     "start_time": "2025-01-05T16:20:55.871516Z"
    }
   },
   "cell_type": "code",
   "source": [
    "from scipy.stats import spearmanr\n",
    "from scipy.stats import kendalltau\n",
    "correlaction=kendalltau(df['Wf'],df['Wzrost'])\n",
    "print(correlaction)"
   ],
   "id": "e8040a851b8bd5de",
   "outputs": [
    {
     "name": "stdout",
     "output_type": "stream",
     "text": [
      "SignificanceResult(statistic=np.float64(0.11761440524906099), pvalue=np.float64(0.4407089637046232))\n"
     ]
    }
   ],
   "execution_count": 90
  },
  {
   "metadata": {
    "ExecuteTime": {
     "end_time": "2025-01-05T16:35:41.508039Z",
     "start_time": "2025-01-05T16:35:41.501320Z"
    }
   },
   "cell_type": "code",
   "source": [
    "print(df.columns)\n",
    "def chi2_significance(df:pd.DataFrame)->{}:\n",
    "    significances={}\n",
    "    for column in df.select_dtypes(include=['object']).columns:\n",
    "        contingency_table=pd.crosstab(df[column],df['Moda'])\n",
    "        chi2, p, _, _ = chi2_contingency(contingency_table)\n",
    "        significances[column]=(float(chi2),float(p))\n",
    "    return significances\n"
   ],
   "id": "d794885e9ecf8cca",
   "outputs": [
    {
     "name": "stdout",
     "output_type": "stream",
     "text": [
      "Index(['Moda', 'Muzyka', 'Film', 'Sport_u', 'Sport_o', 'Komputer', 'Samochod',\n",
      "       'Literatura', 'Smak', 'Wolny_czas', 'Miasto', 'Kraj', 'Wzrost', 'Włosy',\n",
      "       'Okulary', 'Przedmiot', 'Gra', 'Wf', 'Sniadanie', 'Kino_teatr', 'Pora',\n",
      "       'Ksiazki', 'Gotowanie', 'Zajecie', 'Media_u', 'Technologie',\n",
      "       'Powietrze', 'Fryzura', 'Media_k', 'Paznokcie', 'Wakacje',\n",
      "       'Rod_prz_sam', 'gry_czas', 'Jedzenie', 'Wartosc', 'Napoj', 'Dom',\n",
      "       'Zwierzak', 'Plec'],\n",
      "      dtype='object')\n"
     ]
    }
   ],
   "execution_count": 97
  },
  {
   "metadata": {
    "ExecuteTime": {
     "end_time": "2025-01-05T16:36:44.841707Z",
     "start_time": "2025-01-05T16:36:44.660736Z"
    }
   },
   "cell_type": "code",
   "source": "significances=chi2_significance(df)\n",
   "id": "aa911185a9389729",
   "outputs": [
    {
     "name": "stdout",
     "output_type": "stream",
     "text": [
      "Moda : (87.0, 6.498094776442212e-15)\n",
      "Samochod : (25.68257575757576, 0.041494476617433544)\n",
      "Wolny_czas : (21.82323232323232, 0.03954937731280141)\n",
      "Pora : (17.52382920110193, 0.04111752751958173)\n",
      "Zajecie : (18.634297520661157, 0.028488307277871095)\n",
      "Media_k : (13.48939393939394, 0.03589013622505964)\n",
      "Paznokcie : (12.780976835664337, 0.005135010942132214)\n",
      "Wakacje : (17.465909090909093, 0.007715177587652727)\n",
      "Zwierzak : (27.6112012987013, 0.0011074595387860105)\n"
     ]
    }
   ],
   "execution_count": 99
  },
  {
   "metadata": {
    "ExecuteTime": {
     "end_time": "2025-01-05T16:40:40.369555Z",
     "start_time": "2025-01-05T16:40:40.365429Z"
    }
   },
   "cell_type": "code",
   "source": [
    "significant_columns=[]\n",
    "for key,value in significances.items():\n",
    "    if value[1]<0.5: significant_columns.append(key)"
   ],
   "id": "1d58259c2cabe5dd",
   "outputs": [],
   "execution_count": 104
  },
  {
   "metadata": {
    "ExecuteTime": {
     "end_time": "2025-01-05T16:42:04.242165Z",
     "start_time": "2025-01-05T16:42:04.216624Z"
    }
   },
   "cell_type": "code",
   "source": [
    "for column in significant_columns:\n",
    "    print(df[column].value_counts())\n",
    "    print()"
   ],
   "id": "559ca1ead3807332",
   "outputs": [
    {
     "name": "stdout",
     "output_type": "stream",
     "text": [
      "Moda\n",
      "Casual             11\n",
      "nie dbam o mode     8\n",
      "Elegancki           8\n",
      "Sportowy            2\n",
      "Name: count, dtype: int64\n",
      "\n",
      "Muzyka\n",
      "hip-hop      8\n",
      "pop          8\n",
      "Rock         6\n",
      "Klasyczna    4\n",
      "punk         1\n",
      "Jazz         1\n",
      "dance        1\n",
      "Name: count, dtype: int64\n",
      "\n",
      "Sport_u\n",
      "silownia (fitness)    15\n",
      "siatkowka              5\n",
      "plywanie               4\n",
      "pilka nozna            3\n",
      "tenis                  2\n",
      "Name: count, dtype: int64\n",
      "\n",
      "Samochod\n",
      "Audi       10\n",
      "BMW         7\n",
      "Toyota      6\n",
      "Ford        3\n",
      "Citroen     2\n",
      "Fiat        1\n",
      "Name: count, dtype: int64\n",
      "\n",
      "Literatura\n",
      "powiesc        18\n",
      "opowiadanie     8\n",
      "esej            2\n",
      "bajka           1\n",
      "Name: count, dtype: int64\n",
      "\n",
      "Wolny_czas\n",
      "spaceruje            9\n",
      "spie                 9\n",
      "czytam               9\n",
      "ide do kina          1\n",
      "ogladam telewizje    1\n",
      "Name: count, dtype: int64\n",
      "\n",
      "Kraj\n",
      "Polska               12\n",
      "Japonia               7\n",
      "Niemcy                5\n",
      "Stany Zjednoczone     3\n",
      "Australia             2\n",
      "Name: count, dtype: int64\n",
      "\n",
      "Włosy\n",
      "szatyn    14\n",
      "blond     10\n",
      "czarny     2\n",
      "biale      2\n",
      "siwe       1\n",
      "Name: count, dtype: int64\n",
      "\n",
      "Gra\n",
      "strategiczne    10\n",
      "strzelanki       6\n",
      "logiczne         6\n",
      "przygodowe       5\n",
      "karciane         2\n",
      "Name: count, dtype: int64\n",
      "\n",
      "Sniadanie\n",
      "tak    22\n",
      "nie     7\n",
      "Name: count, dtype: int64\n",
      "\n",
      "Kino_teatr\n",
      "nie    19\n",
      "tak    10\n",
      "Name: count, dtype: int64\n",
      "\n",
      "Pora\n",
      "wiosna    11\n",
      "lato      10\n",
      "zima       6\n",
      "jesien     2\n",
      "Name: count, dtype: int64\n",
      "\n",
      "Ksiazki\n",
      "ksiazki papierowe    21\n",
      "ebooki                7\n",
      "nie czytam            1\n",
      "Name: count, dtype: int64\n",
      "\n",
      "Zajecie\n",
      "sluchanie muzyki    11\n",
      "Gry komputerowe      6\n",
      "Sport                6\n",
      "Czytanie             6\n",
      "Name: count, dtype: int64\n",
      "\n",
      "Media_u\n",
      "Instagram     12\n",
      "TikTok         9\n",
      "nie uzywam     4\n",
      "Facebook       4\n",
      "Name: count, dtype: int64\n",
      "\n",
      "Technologie\n",
      "tak    22\n",
      "nie     7\n",
      "Name: count, dtype: int64\n",
      "\n",
      "Powietrze\n",
      "Codziennie               15\n",
      "Kilka razy w tygodniu    13\n",
      "Rzadko                    1\n",
      "Name: count, dtype: int64\n",
      "\n",
      "Media_k\n",
      "Codziennie               20\n",
      "Kilka razy w tygodniu     6\n",
      "Rzadko                    3\n",
      "Name: count, dtype: int64\n",
      "\n",
      "Paznokcie\n",
      "tak    16\n",
      "nie    13\n",
      "Name: count, dtype: int64\n",
      "\n",
      "Wakacje\n",
      "Podrozowanie         22\n",
      "Praca                 4\n",
      "Odpoczynek w domu     3\n",
      "Name: count, dtype: int64\n",
      "\n",
      "Rod_prz_sam\n",
      "Przyjaciele    19\n",
      "Rodzina         7\n",
      "samotnie        3\n",
      "Name: count, dtype: int64\n",
      "\n",
      "gry_czas\n",
      "Rzadko                   12\n",
      "Kilka razy w tygodniu     9\n",
      "Codziennie                5\n",
      "Raz w tygodniu            3\n",
      "Name: count, dtype: int64\n",
      "\n",
      "Jedzenie\n",
      "Kuchnia miedzynarodowa    16\n",
      "Domowe jedzenie           11\n",
      "Fast food                  2\n",
      "Name: count, dtype: int64\n",
      "\n",
      "Wartosc\n",
      "Przyjazn    10\n",
      "Rodzina      9\n",
      "Kariera      7\n",
      "zdrowie      3\n",
      "Name: count, dtype: int64\n",
      "\n",
      "Napoj\n",
      "woda                        18\n",
      "soki                         4\n",
      "herbata                      4\n",
      "kawa                         2\n",
      "kolorowe napoje gazowane     1\n",
      "Name: count, dtype: int64\n",
      "\n",
      "Zwierzak\n",
      "kot                             14\n",
      "pies                            12\n",
      "maly gryzon (kawia, mysz...)     2\n",
      "krolik                           1\n",
      "Name: count, dtype: int64\n",
      "\n",
      "Plec\n",
      "mezczyzna    15\n",
      "kobieta      14\n",
      "Name: count, dtype: int64\n",
      "\n"
     ]
    }
   ],
   "execution_count": 107
  },
  {
   "metadata": {
    "ExecuteTime": {
     "end_time": "2025-01-06T18:05:16.316978Z",
     "start_time": "2025-01-06T18:05:16.287205Z"
    }
   },
   "cell_type": "code",
   "source": "print(df['Moda'].value_counts())",
   "id": "d046111346d42cbd",
   "outputs": [
    {
     "name": "stdout",
     "output_type": "stream",
     "text": [
      "Moda\n",
      "Casual             11\n",
      "nie dbam o mode     8\n",
      "Elegancki           8\n",
      "Sportowy            2\n",
      "Name: count, dtype: int64\n"
     ]
    }
   ],
   "execution_count": 108
  },
  {
   "metadata": {},
   "cell_type": "code",
   "outputs": [],
   "execution_count": null,
   "source": "df_dropped=df.drop('',axis=1)\n",
   "id": "c0d1377ba0266e97"
  }
 ],
 "metadata": {
  "kernelspec": {
   "display_name": "Python 3",
   "language": "python",
   "name": "python3"
  },
  "language_info": {
   "codemirror_mode": {
    "name": "ipython",
    "version": 2
   },
   "file_extension": ".py",
   "mimetype": "text/x-python",
   "name": "python",
   "nbconvert_exporter": "python",
   "pygments_lexer": "ipython2",
   "version": "2.7.6"
  }
 },
 "nbformat": 4,
 "nbformat_minor": 5
}
